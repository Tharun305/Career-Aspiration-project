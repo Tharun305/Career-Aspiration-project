{
 "cells": [
  {
   "cell_type": "markdown",
   "id": "b83c1c0c-23ef-4681-8460-0d9d0c18f588",
   "metadata": {},
   "source": [
    "# Import Necessary Libraries"
   ]
  },
  {
   "cell_type": "code",
   "execution_count": 1,
   "id": "ac6bfe2a-6a71-41c2-9dc9-17a019c70351",
   "metadata": {},
   "outputs": [],
   "source": [
    "import pandas as pd\n",
    "\n",
    "import warnings\n",
    "warnings.filterwarnings(\"ignore\")"
   ]
  },
  {
   "cell_type": "markdown",
   "id": "f30699d3-b3a8-46a5-a6e2-5d8191d028e8",
   "metadata": {},
   "source": [
    "# Load the Data"
   ]
  },
  {
   "cell_type": "code",
   "execution_count": 2,
   "id": "b18e1457-f9e6-4b66-ae62-2fbde443b504",
   "metadata": {},
   "outputs": [],
   "source": [
    "df=pd.read_excel('Your Career Aspirations (Responses)Form responses.xlsx')"
   ]
  },
  {
   "cell_type": "markdown",
   "id": "79cd410e-f23b-4a66-8d6b-a83ad0708ffa",
   "metadata": {},
   "source": [
    "# Understand the Data"
   ]
  },
  {
   "cell_type": "code",
   "execution_count": 3,
   "id": "24fd0d4a-8a0d-4521-894b-8bccd08ebe8e",
   "metadata": {},
   "outputs": [
    {
     "data": {
      "text/html": [
       "<div>\n",
       "<style scoped>\n",
       "    .dataframe tbody tr th:only-of-type {\n",
       "        vertical-align: middle;\n",
       "    }\n",
       "\n",
       "    .dataframe tbody tr th {\n",
       "        vertical-align: top;\n",
       "    }\n",
       "\n",
       "    .dataframe thead th {\n",
       "        text-align: right;\n",
       "    }\n",
       "</style>\n",
       "<table border=\"1\" class=\"dataframe\">\n",
       "  <thead>\n",
       "    <tr style=\"text-align: right;\">\n",
       "      <th></th>\n",
       "      <th>Timestamp</th>\n",
       "      <th>Your Current Country.</th>\n",
       "      <th>Your Current Zip Code / Pin Code</th>\n",
       "      <th>Your Gender</th>\n",
       "      <th>Which of the below factors influence the most about your career aspirations ?</th>\n",
       "      <th>Would you definitely pursue a Higher Education / Post Graduation outside of India ? If only you have to self sponsor it.</th>\n",
       "      <th>How likely is that you will work for one employer for 3 years or more ?</th>\n",
       "      <th>Would you work for a company whose mission is not clearly defined and publicly posted.</th>\n",
       "      <th>How likely would you work for a company whose mission is misaligned with their public actions or even their product ?</th>\n",
       "      <th>How likely would you work for a company whose mission is not bringing social impact ?</th>\n",
       "      <th>...</th>\n",
       "      <th>For the First 3 years of your career, what is your minimum expected monthly salary in Hand?</th>\n",
       "      <th>After 5 years of your career from now, what is your minimum expected monthly salary in Hand?</th>\n",
       "      <th>Would you work for a company that has NO-REMOTE working policy</th>\n",
       "      <th>What is your minimum expectations of salary when you are starting your career (Monthly in hand salary)</th>\n",
       "      <th>What Kind of company would you like to work</th>\n",
       "      <th>Would you work under a manager who uses abusive words at workplace or if you get to know the manager has done that in the past</th>\n",
       "      <th>How many hours would you be willing to work every day</th>\n",
       "      <th>How often do you need a full week break, to stay healthy with the work life balance</th>\n",
       "      <th>What would make you happier and productive at work</th>\n",
       "      <th>What would frustrate you at work ?</th>\n",
       "    </tr>\n",
       "  </thead>\n",
       "  <tbody>\n",
       "    <tr>\n",
       "      <th>0</th>\n",
       "      <td>16/12/2022 11:46:06</td>\n",
       "      <td>India</td>\n",
       "      <td>273005</td>\n",
       "      <td>Male</td>\n",
       "      <td>People who have changed the world for better</td>\n",
       "      <td>Yes, I will earn and do that</td>\n",
       "      <td>This will be hard to do, but if it is the righ...</td>\n",
       "      <td>No</td>\n",
       "      <td>Will NOT work for them</td>\n",
       "      <td>4</td>\n",
       "      <td>...</td>\n",
       "      <td>31k to 40k</td>\n",
       "      <td>91k to 110k</td>\n",
       "      <td>NaN</td>\n",
       "      <td>NaN</td>\n",
       "      <td>NaN</td>\n",
       "      <td>NaN</td>\n",
       "      <td>NaN</td>\n",
       "      <td>NaN</td>\n",
       "      <td>NaN</td>\n",
       "      <td>NaN</td>\n",
       "    </tr>\n",
       "    <tr>\n",
       "      <th>1</th>\n",
       "      <td>16/12/2022 11:46:34</td>\n",
       "      <td>India</td>\n",
       "      <td>851129</td>\n",
       "      <td>Male</td>\n",
       "      <td>People who have changed the world for better</td>\n",
       "      <td>No, But if someone could bare the cost I will</td>\n",
       "      <td>This will be hard to do, but if it is the righ...</td>\n",
       "      <td>No</td>\n",
       "      <td>Will NOT work for them</td>\n",
       "      <td>1</td>\n",
       "      <td>...</td>\n",
       "      <td>21k to 25k</td>\n",
       "      <td>50k to 70k</td>\n",
       "      <td>NaN</td>\n",
       "      <td>NaN</td>\n",
       "      <td>NaN</td>\n",
       "      <td>NaN</td>\n",
       "      <td>NaN</td>\n",
       "      <td>NaN</td>\n",
       "      <td>NaN</td>\n",
       "      <td>NaN</td>\n",
       "    </tr>\n",
       "    <tr>\n",
       "      <th>2</th>\n",
       "      <td>16/12/2022 11:55:22</td>\n",
       "      <td>India</td>\n",
       "      <td>123106</td>\n",
       "      <td>Female</td>\n",
       "      <td>Social Media like LinkedIn</td>\n",
       "      <td>Yes, I will earn and do that</td>\n",
       "      <td>Will work for 3 years or more</td>\n",
       "      <td>Yes</td>\n",
       "      <td>Will work for them</td>\n",
       "      <td>7</td>\n",
       "      <td>...</td>\n",
       "      <td>21k to 25k</td>\n",
       "      <td>91k to 110k</td>\n",
       "      <td>NaN</td>\n",
       "      <td>NaN</td>\n",
       "      <td>NaN</td>\n",
       "      <td>NaN</td>\n",
       "      <td>NaN</td>\n",
       "      <td>NaN</td>\n",
       "      <td>NaN</td>\n",
       "      <td>NaN</td>\n",
       "    </tr>\n",
       "    <tr>\n",
       "      <th>3</th>\n",
       "      <td>16/12/2022 11:58:46</td>\n",
       "      <td>India</td>\n",
       "      <td>834003</td>\n",
       "      <td>Male</td>\n",
       "      <td>People from my circle, but not family members</td>\n",
       "      <td>No, But if someone could bare the cost I will</td>\n",
       "      <td>This will be hard to do, but if it is the righ...</td>\n",
       "      <td>No</td>\n",
       "      <td>Will NOT work for them</td>\n",
       "      <td>6</td>\n",
       "      <td>...</td>\n",
       "      <td>&gt;50k</td>\n",
       "      <td>&gt;151k</td>\n",
       "      <td>NaN</td>\n",
       "      <td>NaN</td>\n",
       "      <td>NaN</td>\n",
       "      <td>NaN</td>\n",
       "      <td>NaN</td>\n",
       "      <td>NaN</td>\n",
       "      <td>NaN</td>\n",
       "      <td>NaN</td>\n",
       "    </tr>\n",
       "    <tr>\n",
       "      <th>4</th>\n",
       "      <td>16/12/2022 11:59:26</td>\n",
       "      <td>India</td>\n",
       "      <td>301019</td>\n",
       "      <td>Female</td>\n",
       "      <td>Influencers who had successful careers</td>\n",
       "      <td>No, But if someone could bare the cost I will</td>\n",
       "      <td>Will work for 3 years or more</td>\n",
       "      <td>No</td>\n",
       "      <td>Will NOT work for them</td>\n",
       "      <td>5</td>\n",
       "      <td>...</td>\n",
       "      <td>31k to 40k</td>\n",
       "      <td>71k to 90k</td>\n",
       "      <td>NaN</td>\n",
       "      <td>NaN</td>\n",
       "      <td>NaN</td>\n",
       "      <td>NaN</td>\n",
       "      <td>NaN</td>\n",
       "      <td>NaN</td>\n",
       "      <td>NaN</td>\n",
       "      <td>NaN</td>\n",
       "    </tr>\n",
       "  </tbody>\n",
       "</table>\n",
       "<p>5 rows × 29 columns</p>\n",
       "</div>"
      ],
      "text/plain": [
       "             Timestamp Your Current Country. Your Current Zip Code / Pin Code  \\\n",
       "0  16/12/2022 11:46:06                 India                           273005   \n",
       "1  16/12/2022 11:46:34                 India                           851129   \n",
       "2  16/12/2022 11:55:22                 India                           123106   \n",
       "3  16/12/2022 11:58:46                 India                           834003   \n",
       "4  16/12/2022 11:59:26                 India                           301019   \n",
       "\n",
       "  Your Gender  \\\n",
       "0        Male   \n",
       "1        Male   \n",
       "2      Female   \n",
       "3        Male   \n",
       "4      Female   \n",
       "\n",
       "  Which of the below factors influence the most about your career aspirations ?  \\\n",
       "0       People who have changed the world for better                              \n",
       "1       People who have changed the world for better                              \n",
       "2                         Social Media like LinkedIn                              \n",
       "3      People from my circle, but not family members                              \n",
       "4             Influencers who had successful careers                              \n",
       "\n",
       "  Would you definitely pursue a Higher Education / Post Graduation outside of India ? If only you have to self sponsor it.  \\\n",
       "0                       Yes, I will earn and do that                                                                         \n",
       "1      No, But if someone could bare the cost I will                                                                         \n",
       "2                       Yes, I will earn and do that                                                                         \n",
       "3      No, But if someone could bare the cost I will                                                                         \n",
       "4      No, But if someone could bare the cost I will                                                                         \n",
       "\n",
       "  How likely is that you will work for one employer for 3 years or more ?  \\\n",
       "0  This will be hard to do, but if it is the righ...                        \n",
       "1  This will be hard to do, but if it is the righ...                        \n",
       "2                      Will work for 3 years or more                        \n",
       "3  This will be hard to do, but if it is the righ...                        \n",
       "4                      Will work for 3 years or more                        \n",
       "\n",
       "  Would you work for a company whose mission is not clearly defined and publicly posted.  \\\n",
       "0                                                 No                                       \n",
       "1                                                 No                                       \n",
       "2                                                Yes                                       \n",
       "3                                                 No                                       \n",
       "4                                                 No                                       \n",
       "\n",
       "  How likely would you work for a company whose mission is misaligned with their public actions or even their product ?  \\\n",
       "0                             Will NOT work for them                                                                      \n",
       "1                             Will NOT work for them                                                                      \n",
       "2                                 Will work for them                                                                      \n",
       "3                             Will NOT work for them                                                                      \n",
       "4                             Will NOT work for them                                                                      \n",
       "\n",
       "   How likely would you work for a company whose mission is not bringing social impact ?  \\\n",
       "0                                                  4                                       \n",
       "1                                                  1                                       \n",
       "2                                                  7                                       \n",
       "3                                                  6                                       \n",
       "4                                                  5                                       \n",
       "\n",
       "   ...  \\\n",
       "0  ...   \n",
       "1  ...   \n",
       "2  ...   \n",
       "3  ...   \n",
       "4  ...   \n",
       "\n",
       "  For the First 3 years of your career, what is your minimum expected monthly salary in Hand?  \\\n",
       "0                                         31k to 40k                                            \n",
       "1                                         21k to 25k                                            \n",
       "2                                         21k to 25k                                            \n",
       "3                                               >50k                                            \n",
       "4                                         31k to 40k                                            \n",
       "\n",
       "  After 5 years of your career from now, what is your minimum expected monthly salary in Hand?  \\\n",
       "0                                        91k to 110k                                             \n",
       "1                                         50k to 70k                                             \n",
       "2                                        91k to 110k                                             \n",
       "3                                              >151k                                             \n",
       "4                                         71k to 90k                                             \n",
       "\n",
       "  Would you work for a company that has NO-REMOTE working policy  \\\n",
       "0                                                NaN               \n",
       "1                                                NaN               \n",
       "2                                                NaN               \n",
       "3                                                NaN               \n",
       "4                                                NaN               \n",
       "\n",
       "  What is your minimum expectations of salary when you are starting your career (Monthly in hand salary)  \\\n",
       "0                                                NaN                                                       \n",
       "1                                                NaN                                                       \n",
       "2                                                NaN                                                       \n",
       "3                                                NaN                                                       \n",
       "4                                                NaN                                                       \n",
       "\n",
       "  What Kind of company would you like to work  \\\n",
       "0                                         NaN   \n",
       "1                                         NaN   \n",
       "2                                         NaN   \n",
       "3                                         NaN   \n",
       "4                                         NaN   \n",
       "\n",
       "  Would you work under a manager who uses abusive words at workplace or if you get to know the manager has done that in the past  \\\n",
       "0                                                NaN                                                                               \n",
       "1                                                NaN                                                                               \n",
       "2                                                NaN                                                                               \n",
       "3                                                NaN                                                                               \n",
       "4                                                NaN                                                                               \n",
       "\n",
       "  How many hours would you be willing to work every day  \\\n",
       "0                                                NaN      \n",
       "1                                                NaN      \n",
       "2                                                NaN      \n",
       "3                                                NaN      \n",
       "4                                                NaN      \n",
       "\n",
       "  How often do you need a full week break, to stay healthy with the work life balance  \\\n",
       "0                                                NaN                                    \n",
       "1                                                NaN                                    \n",
       "2                                                NaN                                    \n",
       "3                                                NaN                                    \n",
       "4                                                NaN                                    \n",
       "\n",
       "  What would make you happier and productive at work  \\\n",
       "0                                                NaN   \n",
       "1                                                NaN   \n",
       "2                                                NaN   \n",
       "3                                                NaN   \n",
       "4                                                NaN   \n",
       "\n",
       "  What would frustrate you at work ?  \n",
       "0                                NaN  \n",
       "1                                NaN  \n",
       "2                                NaN  \n",
       "3                                NaN  \n",
       "4                                NaN  \n",
       "\n",
       "[5 rows x 29 columns]"
      ]
     },
     "execution_count": 3,
     "metadata": {},
     "output_type": "execute_result"
    }
   ],
   "source": [
    "df.head()"
   ]
  },
  {
   "cell_type": "code",
   "execution_count": 4,
   "id": "c12c01c1-c975-47b1-a780-d748b0566662",
   "metadata": {},
   "outputs": [
    {
     "data": {
      "text/plain": [
       "(3923, 29)"
      ]
     },
     "execution_count": 4,
     "metadata": {},
     "output_type": "execute_result"
    }
   ],
   "source": [
    "df.shape"
   ]
  },
  {
   "cell_type": "code",
   "execution_count": 5,
   "id": "f0b240e9-102c-4304-9582-dd16343d901a",
   "metadata": {},
   "outputs": [
    {
     "name": "stdout",
     "output_type": "stream",
     "text": [
      "<class 'pandas.core.frame.DataFrame'>\n",
      "RangeIndex: 3923 entries, 0 to 3922\n",
      "Data columns (total 29 columns):\n",
      " #   Column                                                                                                                          Non-Null Count  Dtype  \n",
      "---  ------                                                                                                                          --------------  -----  \n",
      " 0   Timestamp                                                                                                                       3923 non-null   object \n",
      " 1   Your Current Country.                                                                                                           3923 non-null   object \n",
      " 2   Your Current Zip Code / Pin Code                                                                                                3923 non-null   object \n",
      " 3   Your Gender                                                                                                                     3923 non-null   object \n",
      " 4   Which of the below factors influence the most about your career aspirations ?                                                   3923 non-null   object \n",
      " 5   Would you definitely pursue a Higher Education / Post Graduation outside of India ? If only you have to self sponsor it.        3923 non-null   object \n",
      " 6   How likely is that you will work for one employer for 3 years or more ?                                                         3923 non-null   object \n",
      " 7   Would you work for a company whose mission is not clearly defined and publicly posted.                                          3923 non-null   object \n",
      " 8   How likely would you work for a company whose mission is misaligned with their public actions or even their product ?           3923 non-null   object \n",
      " 9   How likely would you work for a company whose mission is not bringing social impact ?                                           3923 non-null   int64  \n",
      " 10  What is the most preferred working environment for you.                                                                         3923 non-null   object \n",
      " 11  Which of the below Employers would you work with.                                                                               3923 non-null   object \n",
      " 12  Which type of learning environment that you are most likely to work in ?                                                        3923 non-null   object \n",
      " 13  Which of the below careers looks close to your Aspirational job ?                                                               3923 non-null   object \n",
      " 14  What type of Manager would you work for without looking into your watch ?                                                       3923 non-null   object \n",
      " 15  Which of the following setup you would like to work ?                                                                           3923 non-null   object \n",
      " 16  Would you work for a company that has Laid-Off Employees recently ?                                                             3542 non-null   object \n",
      " 17  How likely is that you will work for one employer for 7 years or more ?                                                         3536 non-null   object \n",
      " 18  Email address                                                                                                                   2074 non-null   object \n",
      " 19  For the First 3 years of your career, what is your minimum expected monthly salary in Hand?                                     3923 non-null   object \n",
      " 20  After 5 years of your career from now, what is your minimum expected monthly salary in Hand?                                    3923 non-null   object \n",
      " 21  Would you work for a company that has NO-REMOTE working policy                                                                  482 non-null    float64\n",
      " 22  What is your minimum expectations of salary when you are starting your career (Monthly in hand salary)                          482 non-null    object \n",
      " 23  What Kind of company would you like to work                                                                                     482 non-null    object \n",
      " 24  Would you work under a manager who uses abusive words at workplace or if you get to know the manager has done that in the past  482 non-null    object \n",
      " 25  How many hours would you be willing to work every day                                                                           482 non-null    object \n",
      " 26  How often do you need a full week break, to stay healthy with the work life balance                                             482 non-null    object \n",
      " 27  What would make you happier and productive at work                                                                              482 non-null    object \n",
      " 28  What would frustrate you at work ?                                                                                              482 non-null    object \n",
      "dtypes: float64(1), int64(1), object(27)\n",
      "memory usage: 888.9+ KB\n"
     ]
    }
   ],
   "source": [
    "df.info()  "
   ]
  },
  {
   "cell_type": "code",
   "execution_count": 6,
   "id": "abbd6ca7-834e-45b1-8e06-6bcfd014a311",
   "metadata": {},
   "outputs": [
    {
     "data": {
      "text/plain": [
       "Timestamp                                                                                                                          object\n",
       "Your Current Country.                                                                                                              object\n",
       "Your Current Zip Code / Pin Code                                                                                                   object\n",
       "Your Gender                                                                                                                        object\n",
       "Which of the below factors influence the most about your career aspirations ?                                                      object\n",
       "Would you definitely pursue a Higher Education / Post Graduation outside of India ? If only you have to self sponsor it.           object\n",
       "How likely is that you will work for one employer for 3 years or more ?                                                            object\n",
       "Would you work for a company whose mission is not clearly defined and publicly posted.                                             object\n",
       "How likely would you work for a company whose mission is misaligned with their public actions or even their product ?              object\n",
       "How likely would you work for a company whose mission is not bringing social impact ?                                               int64\n",
       "What is the most preferred working environment for you.                                                                            object\n",
       "Which of the below Employers would you work with.                                                                                  object\n",
       "Which type of learning environment that you are most likely to work in ?                                                           object\n",
       "Which of the below careers looks close to your Aspirational job ?                                                                  object\n",
       "What type of Manager would you work for without looking into your watch ?                                                          object\n",
       "Which of the following setup you would like to work ?                                                                              object\n",
       "Would you work for a company that has Laid-Off Employees recently ?                                                                object\n",
       "How likely is that you will work for one employer for 7 years or more ?                                                            object\n",
       "Email address                                                                                                                      object\n",
       "For the First 3 years of your career, what is your minimum expected monthly salary in Hand?                                        object\n",
       "After 5 years of your career from now, what is your minimum expected monthly salary in Hand?                                       object\n",
       "Would you work for a company that has NO-REMOTE working policy                                                                    float64\n",
       "What is your minimum expectations of salary when you are starting your career (Monthly in hand salary)                             object\n",
       "What Kind of company would you like to work                                                                                        object\n",
       "Would you work under a manager who uses abusive words at workplace or if you get to know the manager has done that in the past     object\n",
       "How many hours would you be willing to work every day                                                                              object\n",
       "How often do you need a full week break, to stay healthy with the work life balance                                                object\n",
       "What would make you happier and productive at work                                                                                 object\n",
       "What would frustrate you at work ?                                                                                                 object\n",
       "dtype: object"
      ]
     },
     "execution_count": 6,
     "metadata": {},
     "output_type": "execute_result"
    }
   ],
   "source": [
    "df.dtypes"
   ]
  },
  {
   "cell_type": "markdown",
   "id": "213a69e6-9d3f-4be1-b65d-95cd38f844b7",
   "metadata": {},
   "source": [
    "# Handle Missing Values  And  Data Type Conversion"
   ]
  },
  {
   "cell_type": "code",
   "execution_count": 7,
   "id": "62aa866c-bfd0-48dd-b9d6-4d4df8505153",
   "metadata": {},
   "outputs": [
    {
     "data": {
      "text/plain": [
       "Timestamp                                                                                                                            0\n",
       "Your Current Country.                                                                                                                0\n",
       "Your Current Zip Code / Pin Code                                                                                                     0\n",
       "Your Gender                                                                                                                          0\n",
       "Which of the below factors influence the most about your career aspirations ?                                                        0\n",
       "Would you definitely pursue a Higher Education / Post Graduation outside of India ? If only you have to self sponsor it.             0\n",
       "How likely is that you will work for one employer for 3 years or more ?                                                              0\n",
       "Would you work for a company whose mission is not clearly defined and publicly posted.                                               0\n",
       "How likely would you work for a company whose mission is misaligned with their public actions or even their product ?                0\n",
       "How likely would you work for a company whose mission is not bringing social impact ?                                                0\n",
       "What is the most preferred working environment for you.                                                                              0\n",
       "Which of the below Employers would you work with.                                                                                    0\n",
       "Which type of learning environment that you are most likely to work in ?                                                             0\n",
       "Which of the below careers looks close to your Aspirational job ?                                                                    0\n",
       "What type of Manager would you work for without looking into your watch ?                                                            0\n",
       "Which of the following setup you would like to work ?                                                                                0\n",
       "Would you work for a company that has Laid-Off Employees recently ?                                                                381\n",
       "How likely is that you will work for one employer for 7 years or more ?                                                            387\n",
       "Email address                                                                                                                     1849\n",
       "For the First 3 years of your career, what is your minimum expected monthly salary in Hand?                                          0\n",
       "After 5 years of your career from now, what is your minimum expected monthly salary in Hand?                                         0\n",
       "Would you work for a company that has NO-REMOTE working policy                                                                    3441\n",
       "What is your minimum expectations of salary when you are starting your career (Monthly in hand salary)                            3441\n",
       "What Kind of company would you like to work                                                                                       3441\n",
       "Would you work under a manager who uses abusive words at workplace or if you get to know the manager has done that in the past    3441\n",
       "How many hours would you be willing to work every day                                                                             3441\n",
       "How often do you need a full week break, to stay healthy with the work life balance                                               3441\n",
       "What would make you happier and productive at work                                                                                3441\n",
       "What would frustrate you at work ?                                                                                                3441\n",
       "dtype: int64"
      ]
     },
     "execution_count": 7,
     "metadata": {},
     "output_type": "execute_result"
    }
   ],
   "source": [
    "df.isna().sum()"
   ]
  },
  {
   "cell_type": "markdown",
   "id": "7c714bad-d979-444f-89dc-1388fde098bb",
   "metadata": {},
   "source": [
    "## percentage of missing values"
   ]
  },
  {
   "cell_type": "code",
   "execution_count": 8,
   "id": "284c8a37-3874-4257-9f27-4fd8ff3d47f3",
   "metadata": {},
   "outputs": [
    {
     "data": {
      "text/plain": [
       "Timestamp                                                                                                                          0.00%\n",
       "Your Current Country.                                                                                                              0.00%\n",
       "Your Current Zip Code / Pin Code                                                                                                   0.00%\n",
       "Your Gender                                                                                                                        0.00%\n",
       "Which of the below factors influence the most about your career aspirations ?                                                      0.00%\n",
       "Would you definitely pursue a Higher Education / Post Graduation outside of India ? If only you have to self sponsor it.           0.00%\n",
       "How likely is that you will work for one employer for 3 years or more ?                                                            0.00%\n",
       "Would you work for a company whose mission is not clearly defined and publicly posted.                                             0.00%\n",
       "How likely would you work for a company whose mission is misaligned with their public actions or even their product ?              0.00%\n",
       "How likely would you work for a company whose mission is not bringing social impact ?                                              0.00%\n",
       "What is the most preferred working environment for you.                                                                            0.00%\n",
       "Which of the below Employers would you work with.                                                                                  0.00%\n",
       "Which type of learning environment that you are most likely to work in ?                                                           0.00%\n",
       "Which of the below careers looks close to your Aspirational job ?                                                                  0.00%\n",
       "What type of Manager would you work for without looking into your watch ?                                                          0.00%\n",
       "Which of the following setup you would like to work ?                                                                              0.00%\n",
       "Would you work for a company that has Laid-Off Employees recently ?                                                                9.71%\n",
       "How likely is that you will work for one employer for 7 years or more ?                                                            9.86%\n",
       "Email address                                                                                                                     47.13%\n",
       "For the First 3 years of your career, what is your minimum expected monthly salary in Hand?                                        0.00%\n",
       "After 5 years of your career from now, what is your minimum expected monthly salary in Hand?                                       0.00%\n",
       "Would you work for a company that has NO-REMOTE working policy                                                                    87.71%\n",
       "What is your minimum expectations of salary when you are starting your career (Monthly in hand salary)                            87.71%\n",
       "What Kind of company would you like to work                                                                                       87.71%\n",
       "Would you work under a manager who uses abusive words at workplace or if you get to know the manager has done that in the past    87.71%\n",
       "How many hours would you be willing to work every day                                                                             87.71%\n",
       "How often do you need a full week break, to stay healthy with the work life balance                                               87.71%\n",
       "What would make you happier and productive at work                                                                                87.71%\n",
       "What would frustrate you at work ?                                                                                                87.71%\n",
       "dtype: object"
      ]
     },
     "execution_count": 8,
     "metadata": {},
     "output_type": "execute_result"
    }
   ],
   "source": [
    "# Calculate the percentage of missing values\n",
    "missing_percentage = (df.isna().sum() / len(df)) * 100\n",
    "\n",
    "# Format the output to show percentage symbols\n",
    "missing_percentage = missing_percentage.apply(lambda x: f\"{x:.2f}%\")\n",
    "\n",
    "# Display the result\n",
    "missing_percentage\n"
   ]
  },
  {
   "cell_type": "code",
   "execution_count": 9,
   "id": "f979e58f-fe28-420d-8483-c5b40f1d6c55",
   "metadata": {},
   "outputs": [
    {
     "data": {
      "text/plain": [
       "array([nan, 'Yes, I Understand this is gonna happen everywhere', 'No',\n",
       "       'I have NO other choice', 'Yes'], dtype=object)"
      ]
     },
     "execution_count": 9,
     "metadata": {},
     "output_type": "execute_result"
    }
   ],
   "source": [
    "df['Would you work for a company that has Laid-Off Employees recently ?'].unique()"
   ]
  },
  {
   "cell_type": "code",
   "execution_count": 10,
   "id": "a8934666-9a2c-45b6-866f-1d6f85531cfb",
   "metadata": {},
   "outputs": [],
   "source": [
    "# Replace missing values in the column with a placeholder\n",
    "df['Would you work for a company that has Laid-Off Employees recently ?'] = df['Would you work for a company that has Laid-Off Employees recently ?'].fillna('Unknown')"
   ]
  },
  {
   "cell_type": "code",
   "execution_count": 11,
   "id": "942a9fbd-0d91-403a-8b9c-651fffa7b199",
   "metadata": {},
   "outputs": [
    {
     "data": {
      "text/plain": [
       "array(['Unknown', 'Yes, I Understand this is gonna happen everywhere',\n",
       "       'No', 'I have NO other choice', 'Yes'], dtype=object)"
      ]
     },
     "execution_count": 11,
     "metadata": {},
     "output_type": "execute_result"
    }
   ],
   "source": [
    "df['Would you work for a company that has Laid-Off Employees recently ?'].unique()"
   ]
  },
  {
   "cell_type": "code",
   "execution_count": 12,
   "id": "43b7e24f-5970-46b3-9455-ec656c8d234b",
   "metadata": {},
   "outputs": [],
   "source": [
    "# Replace missing values with a placeholder\n",
    "df['How likely is that you will work for one employer for 7 years or more ?'] = df['How likely is that you will work for one employer for 7 years or more ?'].fillna('Unknown')\n"
   ]
  },
  {
   "cell_type": "code",
   "execution_count": 13,
   "id": "7284165d-d95d-4c5c-a270-78662be500e2",
   "metadata": {},
   "outputs": [
    {
     "data": {
      "text/plain": [
       "array(['Unknown', 'No way',\n",
       "       'This will be hard to do, but if it is the right company I would try',\n",
       "       'Will work for 7 years or more'], dtype=object)"
      ]
     },
     "execution_count": 13,
     "metadata": {},
     "output_type": "execute_result"
    }
   ],
   "source": [
    "df['How likely is that you will work for one employer for 7 years or more ?'].unique()"
   ]
  },
  {
   "cell_type": "code",
   "execution_count": 14,
   "id": "99c05d76-abb3-47b9-8d4d-9d39e947acbe",
   "metadata": {},
   "outputs": [
    {
     "data": {
      "text/plain": [
       "array([nan, 'kumartejendar@gmail.com', 'abirami.k729@gmail.com', ...,\n",
       "       'deva.palit98@gmail.com', 'amalajeni.21@gmail.com',\n",
       "       'hrishabht5@gmail.com'], dtype=object)"
      ]
     },
     "execution_count": 14,
     "metadata": {},
     "output_type": "execute_result"
    }
   ],
   "source": [
    "df['Email address'].unique()"
   ]
  },
  {
   "cell_type": "code",
   "execution_count": 15,
   "id": "0c52fe1b-3b3b-400a-8061-f8a042dcec70",
   "metadata": {},
   "outputs": [],
   "source": [
    "df['Email address'].fillna('No Email', inplace=True)"
   ]
  },
  {
   "cell_type": "code",
   "execution_count": 16,
   "id": "3ed424c1-ed5c-42ef-8e8a-76d6fd5a83f7",
   "metadata": {},
   "outputs": [
    {
     "data": {
      "text/plain": [
       "array(['No Email', 'kumartejendar@gmail.com', 'abirami.k729@gmail.com',\n",
       "       ..., 'deva.palit98@gmail.com', 'amalajeni.21@gmail.com',\n",
       "       'hrishabht5@gmail.com'], dtype=object)"
      ]
     },
     "execution_count": 16,
     "metadata": {},
     "output_type": "execute_result"
    }
   ],
   "source": [
    "df['Email address'].unique()"
   ]
  },
  {
   "cell_type": "code",
   "execution_count": 17,
   "id": "7d1061a3-8ea3-4796-82ad-f7f7ce528363",
   "metadata": {},
   "outputs": [
    {
     "data": {
      "text/plain": [
       "array([nan, 10.,  7.,  9.,  1.,  5.,  3.])"
      ]
     },
     "execution_count": 17,
     "metadata": {},
     "output_type": "execute_result"
    }
   ],
   "source": [
    "df['Would you work for a company that has NO-REMOTE working policy'].unique()"
   ]
  },
  {
   "cell_type": "code",
   "execution_count": 18,
   "id": "1a9740fb-4412-4daf-ae60-d10ae065f91f",
   "metadata": {},
   "outputs": [],
   "source": [
    "df['Would you work for a company that has NO-REMOTE working policy'].fillna(0, inplace=True)"
   ]
  },
  {
   "cell_type": "code",
   "execution_count": 19,
   "id": "25941440-087b-4640-a106-233f69478665",
   "metadata": {},
   "outputs": [],
   "source": [
    "df['Would you work for a company that has NO-REMOTE working policy'] = df['Would you work for a company that has NO-REMOTE working policy'].astype(int)"
   ]
  },
  {
   "cell_type": "code",
   "execution_count": 20,
   "id": "46a793cd-0357-4ed7-9262-ed9ddf9b0917",
   "metadata": {},
   "outputs": [
    {
     "data": {
      "text/plain": [
       "array([ 0, 10,  7,  9,  1,  5,  3])"
      ]
     },
     "execution_count": 20,
     "metadata": {},
     "output_type": "execute_result"
    }
   ],
   "source": [
    "df['Would you work for a company that has NO-REMOTE working policy'].unique()"
   ]
  },
  {
   "cell_type": "code",
   "execution_count": 21,
   "id": "a25697c1-feac-41dc-949a-f39c6fc0ea98",
   "metadata": {},
   "outputs": [
    {
     "data": {
      "text/plain": [
       "array([nan, '26k to 30k', '31k to 40k', '21k to 25k', '16k to 20k',\n",
       "       '10k to 15k'], dtype=object)"
      ]
     },
     "execution_count": 21,
     "metadata": {},
     "output_type": "execute_result"
    }
   ],
   "source": [
    "df['What is your minimum expectations of salary when you are starting your career (Monthly in hand salary)'].unique()"
   ]
  },
  {
   "cell_type": "code",
   "execution_count": 22,
   "id": "c435f3c4-96c6-4e00-90ba-57129701c8d4",
   "metadata": {},
   "outputs": [],
   "source": [
    "df['What is your minimum expectations of salary when you are starting your career (Monthly in hand salary)'].fillna(0, inplace=True)"
   ]
  },
  {
   "cell_type": "code",
   "execution_count": 23,
   "id": "9f5fb5c0-94c8-4634-a233-dec6ca9e104f",
   "metadata": {},
   "outputs": [
    {
     "data": {
      "text/plain": [
       "array([0, '26k to 30k', '31k to 40k', '21k to 25k', '16k to 20k',\n",
       "       '10k to 15k'], dtype=object)"
      ]
     },
     "execution_count": 23,
     "metadata": {},
     "output_type": "execute_result"
    }
   ],
   "source": [
    "df['What is your minimum expectations of salary when you are starting your career (Monthly in hand salary)'].unique()"
   ]
  },
  {
   "cell_type": "code",
   "execution_count": 24,
   "id": "fc16aa49-ad80-4726-8660-4bf0766ee99f",
   "metadata": {},
   "outputs": [
    {
     "data": {
      "text/plain": [
       "array([nan, 'Startups (51 to 250 Employees)',\n",
       "       'Corporations (3000+ employees)',\n",
       "       'Mid Size Companies (251 to 1000 employees)',\n",
       "       'Startups (Less than 50 empoyees)',\n",
       "       'Large Companies (1001 to 3000 employees)'], dtype=object)"
      ]
     },
     "execution_count": 24,
     "metadata": {},
     "output_type": "execute_result"
    }
   ],
   "source": [
    "df['What Kind of company would you like to work'].unique()"
   ]
  },
  {
   "cell_type": "code",
   "execution_count": 25,
   "id": "ec9a5fdb-4ac5-4b16-8afc-afc4fe9fbce4",
   "metadata": {},
   "outputs": [],
   "source": [
    "df['What Kind of company would you like to work'].fillna('No Preference', inplace=True)"
   ]
  },
  {
   "cell_type": "code",
   "execution_count": 26,
   "id": "06aac1c1-de69-419d-b050-fb67bcc96f6c",
   "metadata": {},
   "outputs": [
    {
     "data": {
      "text/plain": [
       "array(['No Preference', 'Startups (51 to 250 Employees)',\n",
       "       'Corporations (3000+ employees)',\n",
       "       'Mid Size Companies (251 to 1000 employees)',\n",
       "       'Startups (Less than 50 empoyees)',\n",
       "       'Large Companies (1001 to 3000 employees)'], dtype=object)"
      ]
     },
     "execution_count": 26,
     "metadata": {},
     "output_type": "execute_result"
    }
   ],
   "source": [
    "df['What Kind of company would you like to work'].unique()"
   ]
  },
  {
   "cell_type": "code",
   "execution_count": 27,
   "id": "4c77318f-8893-4fe9-ab60-1054313ef0ce",
   "metadata": {},
   "outputs": [
    {
     "data": {
      "text/plain": [
       "array([nan, 'No', 'Yes'], dtype=object)"
      ]
     },
     "execution_count": 27,
     "metadata": {},
     "output_type": "execute_result"
    }
   ],
   "source": [
    "df['Would you work under a manager who uses abusive words at workplace or if you get to know the manager has done that in the past'].unique()"
   ]
  },
  {
   "cell_type": "code",
   "execution_count": 28,
   "id": "4f85124a-589f-478c-a051-a8d3e01ed41a",
   "metadata": {},
   "outputs": [],
   "source": [
    "df['Would you work under a manager who uses abusive words at workplace or if you get to know the manager has done that in the past'] = df['Would you work under a manager who uses abusive words at workplace or if you get to know the manager has done that in the past'].fillna('No Response')"
   ]
  },
  {
   "cell_type": "code",
   "execution_count": 29,
   "id": "0265e5c8-974e-474a-8a68-77bb35766d2e",
   "metadata": {},
   "outputs": [
    {
     "data": {
      "text/plain": [
       "array(['No Response', 'No', 'Yes'], dtype=object)"
      ]
     },
     "execution_count": 29,
     "metadata": {},
     "output_type": "execute_result"
    }
   ],
   "source": [
    "df['Would you work under a manager who uses abusive words at workplace or if you get to know the manager has done that in the past'].unique()"
   ]
  },
  {
   "cell_type": "code",
   "execution_count": 30,
   "id": "c8492ee4-512b-4bc8-8c5f-00e9acd5b534",
   "metadata": {},
   "outputs": [
    {
     "data": {
      "text/plain": [
       "array([nan, '8 hours', '10 hours', '6 hours', '14 hours', '12 hours'],\n",
       "      dtype=object)"
      ]
     },
     "execution_count": 30,
     "metadata": {},
     "output_type": "execute_result"
    }
   ],
   "source": [
    "df['How many hours would you be willing to work every day'].unique()"
   ]
  },
  {
   "cell_type": "code",
   "execution_count": 31,
   "id": "9fc95156-e72d-44ef-a621-a869561ecd5b",
   "metadata": {},
   "outputs": [
    {
     "data": {
      "text/plain": [
       "array([0, '8 hours', '10 hours', '6 hours', '14 hours', '12 hours'],\n",
       "      dtype=object)"
      ]
     },
     "execution_count": 31,
     "metadata": {},
     "output_type": "execute_result"
    }
   ],
   "source": [
    "df['How many hours would you be willing to work every day'] = df['How many hours would you be willing to work every day'].fillna(0)\n",
    "\n",
    "df['How many hours would you be willing to work every day'].unique()"
   ]
  },
  {
   "cell_type": "code",
   "execution_count": 32,
   "id": "3a4f88b2-d8f3-4f64-8481-7a5692def698",
   "metadata": {},
   "outputs": [
    {
     "name": "stdout",
     "output_type": "stream",
     "text": [
      "[ 0  8 10  6 14 12]\n"
     ]
    }
   ],
   "source": [
    "# Extract numeric values from the column\n",
    "df['How many hours would you be willing to work every day'] = df['How many hours would you be willing to work every day'].str.extract('(\\d+)')\n",
    "\n",
    "# Handle NaN values by replacing them with 0 (or another placeholder)\n",
    "df['How many hours would you be willing to work every day'] = df['How many hours would you be willing to work every day'].fillna(0).astype(int)\n",
    "\n",
    "# Verify unique values after conversion\n",
    "print(df['How many hours would you be willing to work every day'].unique())\n"
   ]
  },
  {
   "cell_type": "code",
   "execution_count": 33,
   "id": "3f94bb61-98be-4de9-8458-7244fc7eda30",
   "metadata": {},
   "outputs": [
    {
     "data": {
      "text/plain": [
       "array([nan, 'Once in 6 months', 'Once in 2 months', 'Once in 12 months',\n",
       "       'Once in 3 months'], dtype=object)"
      ]
     },
     "execution_count": 33,
     "metadata": {},
     "output_type": "execute_result"
    }
   ],
   "source": [
    "df['How often do you need a full week break, to stay healthy with the work life balance'].unique()"
   ]
  },
  {
   "cell_type": "code",
   "execution_count": 34,
   "id": "f7f893a6-5ff2-4f3c-a884-e0b652755cee",
   "metadata": {},
   "outputs": [],
   "source": [
    "df['How often do you need a full week break, to stay healthy with the work life balance'] = df['How often do you need a full week break, to stay healthy with the work life balance'].fillna('Not Specified')"
   ]
  },
  {
   "cell_type": "code",
   "execution_count": 35,
   "id": "fc4b7092-9028-44d5-aba5-a61f1b1a3224",
   "metadata": {},
   "outputs": [],
   "source": [
    "mapping = {\n",
    "    'Once in 6 months': 6,\n",
    "    'Once in 2 months': 2,\n",
    "    'Once in 12 months': 12,\n",
    "    'Once in 3 months': 3,\n",
    "    'Not Specified': 0  # For missing data or 'Not Specified'\n",
    "}\n",
    "df['How often do you need a full week break, to stay healthy with the work life balance'] = df['How often do you need a full week break, to stay healthy with the work life balance'].map(mapping)"
   ]
  },
  {
   "cell_type": "code",
   "execution_count": 36,
   "id": "84439706-4ac2-48f8-8ea6-ad31a410336b",
   "metadata": {},
   "outputs": [
    {
     "data": {
      "text/plain": [
       "array([ 0,  6,  2, 12,  3], dtype=int64)"
      ]
     },
     "execution_count": 36,
     "metadata": {},
     "output_type": "execute_result"
    }
   ],
   "source": [
    "df['How often do you need a full week break, to stay healthy with the work life balance'].unique()"
   ]
  },
  {
   "cell_type": "code",
   "execution_count": 37,
   "id": "5a7db63b-65dc-4d3b-b268-dcb0225f7590",
   "metadata": {},
   "outputs": [],
   "source": [
    "df.rename(columns={'How often do you need a full week break, to stay healthy with the work life balance': \n",
    "                   'How often do you need a full week break, to stay healthy with the work life balance, in months'}, \n",
    "          inplace=True)"
   ]
  },
  {
   "cell_type": "code",
   "execution_count": 38,
   "id": "45115166-a73b-4463-81e3-321acba26e55",
   "metadata": {},
   "outputs": [
    {
     "data": {
      "text/plain": [
       "array([nan, 'Political Environment', 'Unsupportive Managers',\n",
       "       'Unclear work without any goals', 'Lack of Transparency',\n",
       "       'Unclear work with a goal', 'Often a need to learn New Skills',\n",
       "       'High stressful job'], dtype=object)"
      ]
     },
     "execution_count": 38,
     "metadata": {},
     "output_type": "execute_result"
    }
   ],
   "source": [
    "df['What would frustrate you at work ?'].unique()"
   ]
  },
  {
   "cell_type": "code",
   "execution_count": 39,
   "id": "b8439531-0bd5-47ed-91f1-949840db1f4f",
   "metadata": {},
   "outputs": [],
   "source": [
    "df['What would frustrate you at work ?'].fillna('Not Specified', inplace=True)"
   ]
  },
  {
   "cell_type": "code",
   "execution_count": 40,
   "id": "237529fc-19bc-4ef5-b317-c083e99c7a65",
   "metadata": {},
   "outputs": [
    {
     "data": {
      "text/plain": [
       "array(['Not Specified', 'Political Environment', 'Unsupportive Managers',\n",
       "       'Unclear work without any goals', 'Lack of Transparency',\n",
       "       'Unclear work with a goal', 'Often a need to learn New Skills',\n",
       "       'High stressful job'], dtype=object)"
      ]
     },
     "execution_count": 40,
     "metadata": {},
     "output_type": "execute_result"
    }
   ],
   "source": [
    "df['What would frustrate you at work ?'].unique()"
   ]
  },
  {
   "cell_type": "code",
   "execution_count": 41,
   "id": "08d9f7a1-81e4-4e7e-aec3-fe602f2c5cad",
   "metadata": {},
   "outputs": [
    {
     "data": {
      "text/plain": [
       "array([nan, 'A great compensation, Supportive Manager',\n",
       "       'Non Political Environment, Supportive Manager',\n",
       "       'Less working hours, Supportive Manager, Work that involves my Passion',\n",
       "       'Meaningful impact of the work, Supportive Manager, Work that involves my Passion',\n",
       "       'A great compensation, Work that involves my Passion',\n",
       "       'Supportive Manager, Work that involves my Passion',\n",
       "       'Meaningful impact of the work, Non Political Environment, Supportive Manager, Work that involves my Passion',\n",
       "       'A great compensation, Meaningful impact of the work, Work that involves my Passion',\n",
       "       'A great compensation, Meaningful impact of the work, Supportive Manager',\n",
       "       'Meaningful impact of the work, Supportive Manager',\n",
       "       'A great compensation, Less working hours',\n",
       "       'A great compensation, Less working hours, Meaningful impact of the work, Non Political Environment, Supportive Manager, Work that involves my Passion',\n",
       "       'Meaningful impact of the work, Work that involves my Passion',\n",
       "       'A great compensation, Less working hours, Non Political Environment, Supportive Manager',\n",
       "       'Meaningful impact of the work, Non Political Environment',\n",
       "       'A great compensation, Less working hours, Work that involves my Passion',\n",
       "       'Less working hours, Non Political Environment',\n",
       "       'Non Political Environment, Supportive Manager, Work that involves my Passion',\n",
       "       'A great compensation, Non Political Environment, Supportive Manager',\n",
       "       'Non Political Environment, Work that involves my Passion',\n",
       "       'A great compensation, Meaningful impact of the work, Supportive Manager, Work that involves my Passion',\n",
       "       'A great compensation, Less working hours, Meaningful impact of the work, Work that involves my Passion',\n",
       "       'Less working hours, Meaningful impact of the work',\n",
       "       'Meaningful impact of the work, Non Political Environment, Supportive Manager',\n",
       "       'A great compensation, Less working hours, Meaningful impact of the work',\n",
       "       'Less working hours, Work that involves my Passion',\n",
       "       'A great compensation, Meaningful impact of the work, Non Political Environment, Supportive Manager, Work that involves my Passion',\n",
       "       'A great compensation, Non Political Environment',\n",
       "       'A great compensation, Meaningful impact of the work',\n",
       "       'Less working hours, Supportive Manager',\n",
       "       'A great compensation, Less working hours, Supportive Manager',\n",
       "       'Less working hours, Non Political Environment, Supportive Manager',\n",
       "       'Meaningful impact of the work, Non Political Environment, Work that involves my Passion',\n",
       "       'Less working hours, Meaningful impact of the work, Work that involves my Passion',\n",
       "       'A great compensation, Supportive Manager, Work that involves my Passion',\n",
       "       'Less working hours, Meaningful impact of the work, Non Political Environment, Work that involves my Passion',\n",
       "       'A great compensation, Non Political Environment, Supportive Manager, Work that involves my Passion',\n",
       "       'A great compensation, Meaningful impact of the work, Non Political Environment, Supportive Manager',\n",
       "       'A great compensation, Meaningful impact of the work, Non Political Environment',\n",
       "       'A great compensation, Non Political Environment, Work that involves my Passion',\n",
       "       'Less working hours, Meaningful impact of the work, Non Political Environment, Supportive Manager',\n",
       "       'A great compensation, Less working hours, Non Political Environment',\n",
       "       'Less working hours, Non Political Environment, Work that involves my Passion',\n",
       "       'A great compensation, Less working hours, Non Political Environment, Work that involves my Passion',\n",
       "       'A great compensation, Meaningful impact of the work, Non Political Environment, Work that involves my Passion',\n",
       "       'A great compensation, Less working hours, Meaningful impact of the work, Supportive Manager, Work that involves my Passion',\n",
       "       'Less working hours, Non Political Environment, Supportive Manager, Work that involves my Passion',\n",
       "       'Less working hours, Meaningful impact of the work, Non Political Environment',\n",
       "       'A great compensation, Less working hours, Supportive Manager, Work that involves my Passion'],\n",
       "      dtype=object)"
      ]
     },
     "execution_count": 41,
     "metadata": {},
     "output_type": "execute_result"
    }
   ],
   "source": [
    "df['What would make you happier and productive at work'].unique()"
   ]
  },
  {
   "cell_type": "code",
   "execution_count": 42,
   "id": "3d430cd7-9b02-47d1-b281-aac1553a750f",
   "metadata": {},
   "outputs": [
    {
     "data": {
      "text/plain": [
       "array(['Not Specified', 'Political Environment', 'Unsupportive Managers',\n",
       "       'Unclear work without any goals', 'Lack of Transparency',\n",
       "       'Unclear work with a goal', 'Often a need to learn New Skills',\n",
       "       'High stressful job'], dtype=object)"
      ]
     },
     "execution_count": 42,
     "metadata": {},
     "output_type": "execute_result"
    }
   ],
   "source": [
    "df['What would make you happier and productive at work'].fillna('Not Specified', inplace=True)\n",
    "df['What would frustrate you at work ?'].unique()\n"
   ]
  },
  {
   "cell_type": "code",
   "execution_count": 43,
   "id": "54954df8-c01c-4e14-8a93-de86c6cfe319",
   "metadata": {},
   "outputs": [
    {
     "data": {
      "text/plain": [
       "Timestamp                                                                                                                         object\n",
       "Your Current Country.                                                                                                             object\n",
       "Your Current Zip Code / Pin Code                                                                                                  object\n",
       "Your Gender                                                                                                                       object\n",
       "Which of the below factors influence the most about your career aspirations ?                                                     object\n",
       "Would you definitely pursue a Higher Education / Post Graduation outside of India ? If only you have to self sponsor it.          object\n",
       "How likely is that you will work for one employer for 3 years or more ?                                                           object\n",
       "Would you work for a company whose mission is not clearly defined and publicly posted.                                            object\n",
       "How likely would you work for a company whose mission is misaligned with their public actions or even their product ?             object\n",
       "How likely would you work for a company whose mission is not bringing social impact ?                                              int64\n",
       "What is the most preferred working environment for you.                                                                           object\n",
       "Which of the below Employers would you work with.                                                                                 object\n",
       "Which type of learning environment that you are most likely to work in ?                                                          object\n",
       "Which of the below careers looks close to your Aspirational job ?                                                                 object\n",
       "What type of Manager would you work for without looking into your watch ?                                                         object\n",
       "Which of the following setup you would like to work ?                                                                             object\n",
       "Would you work for a company that has Laid-Off Employees recently ?                                                               object\n",
       "How likely is that you will work for one employer for 7 years or more ?                                                           object\n",
       "Email address                                                                                                                     object\n",
       "For the First 3 years of your career, what is your minimum expected monthly salary in Hand?                                       object\n",
       "After 5 years of your career from now, what is your minimum expected monthly salary in Hand?                                      object\n",
       "Would you work for a company that has NO-REMOTE working policy                                                                     int32\n",
       "What is your minimum expectations of salary when you are starting your career (Monthly in hand salary)                            object\n",
       "What Kind of company would you like to work                                                                                       object\n",
       "Would you work under a manager who uses abusive words at workplace or if you get to know the manager has done that in the past    object\n",
       "How many hours would you be willing to work every day                                                                              int32\n",
       "How often do you need a full week break, to stay healthy with the work life balance, in months                                     int64\n",
       "What would make you happier and productive at work                                                                                object\n",
       "What would frustrate you at work ?                                                                                                object\n",
       "dtype: object"
      ]
     },
     "execution_count": 43,
     "metadata": {},
     "output_type": "execute_result"
    }
   ],
   "source": [
    "df.dtypes"
   ]
  },
  {
   "cell_type": "markdown",
   "id": "9df70e6e-b20e-422a-ba2f-3d987088d354",
   "metadata": {},
   "source": [
    "# Convert and Standardize Timestamp Column"
   ]
  },
  {
   "cell_type": "code",
   "execution_count": 44,
   "id": "06274f33-cbf7-4d71-a9b6-6f4788bc32d7",
   "metadata": {},
   "outputs": [
    {
     "data": {
      "text/plain": [
       "<DatetimeArray>\n",
       "['2022-12-16 11:46:06', '2022-12-16 11:46:34', '2022-12-16 11:55:22',\n",
       " '2022-12-16 11:58:46', '2022-12-16 11:59:26', '2022-12-16 11:59:37',\n",
       " '2022-12-16 12:00:03', '2022-12-16 12:02:07', '2022-12-16 12:12:10',\n",
       " '2022-12-16 12:36:25',\n",
       " ...\n",
       " '2024-06-03 16:24:09', '2024-06-16 08:13:50', '2024-06-19 08:49:06',\n",
       " '2024-06-25 16:54:37', '2024-07-06 02:29:06', '2024-08-01 20:00:43',\n",
       " '2024-08-10 13:58:36', '2024-08-21 22:44:12', '2024-09-03 11:55:48',\n",
       " '2024-09-13 22:30:19']\n",
       "Length: 3914, dtype: datetime64[ns]"
      ]
     },
     "execution_count": 44,
     "metadata": {},
     "output_type": "execute_result"
    }
   ],
   "source": [
    "df['Timestamp'] = pd.to_datetime(df['Timestamp'], format='%d/%m/%Y %H:%M:%S')\n",
    "\n",
    "\n",
    "df['Timestamp'].unique()"
   ]
  },
  {
   "cell_type": "code",
   "execution_count": 45,
   "id": "8cb2d8ab-a59d-47e9-bdc6-03e960e9e236",
   "metadata": {},
   "outputs": [
    {
     "data": {
      "text/plain": [
       "Timestamp                                                                                                                         datetime64[ns]\n",
       "Your Current Country.                                                                                                                     object\n",
       "Your Current Zip Code / Pin Code                                                                                                          object\n",
       "Your Gender                                                                                                                               object\n",
       "Which of the below factors influence the most about your career aspirations ?                                                             object\n",
       "Would you definitely pursue a Higher Education / Post Graduation outside of India ? If only you have to self sponsor it.                  object\n",
       "How likely is that you will work for one employer for 3 years or more ?                                                                   object\n",
       "Would you work for a company whose mission is not clearly defined and publicly posted.                                                    object\n",
       "How likely would you work for a company whose mission is misaligned with their public actions or even their product ?                     object\n",
       "How likely would you work for a company whose mission is not bringing social impact ?                                                      int64\n",
       "What is the most preferred working environment for you.                                                                                   object\n",
       "Which of the below Employers would you work with.                                                                                         object\n",
       "Which type of learning environment that you are most likely to work in ?                                                                  object\n",
       "Which of the below careers looks close to your Aspirational job ?                                                                         object\n",
       "What type of Manager would you work for without looking into your watch ?                                                                 object\n",
       "Which of the following setup you would like to work ?                                                                                     object\n",
       "Would you work for a company that has Laid-Off Employees recently ?                                                                       object\n",
       "How likely is that you will work for one employer for 7 years or more ?                                                                   object\n",
       "Email address                                                                                                                             object\n",
       "For the First 3 years of your career, what is your minimum expected monthly salary in Hand?                                               object\n",
       "After 5 years of your career from now, what is your minimum expected monthly salary in Hand?                                              object\n",
       "Would you work for a company that has NO-REMOTE working policy                                                                             int32\n",
       "What is your minimum expectations of salary when you are starting your career (Monthly in hand salary)                                    object\n",
       "What Kind of company would you like to work                                                                                               object\n",
       "Would you work under a manager who uses abusive words at workplace or if you get to know the manager has done that in the past            object\n",
       "How many hours would you be willing to work every day                                                                                      int32\n",
       "How often do you need a full week break, to stay healthy with the work life balance, in months                                             int64\n",
       "What would make you happier and productive at work                                                                                        object\n",
       "What would frustrate you at work ?                                                                                                        object\n",
       "dtype: object"
      ]
     },
     "execution_count": 45,
     "metadata": {},
     "output_type": "execute_result"
    }
   ],
   "source": [
    "df.dtypes"
   ]
  },
  {
   "cell_type": "markdown",
   "id": "08ce007c-ee10-4f39-a080-72fa30042490",
   "metadata": {},
   "source": [
    "# Rename or reformat column names for consistency"
   ]
  },
  {
   "cell_type": "code",
   "execution_count": 46,
   "id": "216a9728-7b3a-4bbc-a567-702bd7c01ed4",
   "metadata": {},
   "outputs": [],
   "source": [
    "df.rename(columns={\n",
    "    'Your Current Country.': 'Current_Country',\n",
    "    'Your Current Zip Code / Pin Code': 'Current_Zip_Code',\n",
    "    'Your Gender': 'Gender',\n",
    "    'Which of the below factors influence the most about your career aspirations ?': 'Career_Influence',\n",
    "    'Would you definitely pursue a Higher Education / Post Graduation outside of India ? If only you have to self sponsor it.': 'Higher_Education_Outside_India',\n",
    "    'How likely is that you will work for one employer for 3 years or more ?': 'Employer_3_Years_Likelihood',\n",
    "    'Would you work for a company whose mission is not clearly defined and publicly posted.': 'Undefined_Mission_Company',\n",
    "    'How likely would you work for a company whose mission is misaligned with their public actions or even their product ?': 'Misaligned_Mission_Company',\n",
    "    'How likely would you work for a company whose mission is not bringing social impact ?': 'No_Social_Impact_Company',\n",
    "    'What is the most preferred working environment for you.': 'Preferred_Working_Environment',\n",
    "    'Which of the below Employers would you work with.': 'Preferred_Employers',\n",
    "    'Which type of learning environment that you are most likely to work in ?': 'Learning_Environment',\n",
    "    'Which of the below careers looks close to your Aspirational job ?': 'Aspirational_Career',\n",
    "    'What type of Manager would you work for without looking into your watch ?': 'Preferred_Manager',\n",
    "    'Which of the following setup you would like to work ?': 'Work_Setup',\n",
    "    'Would you work for a company that has Laid-Off Employees recently ?': 'Laid_Off_Company',\n",
    "    'How likely is that you will work for one employer for 7 years or more ?': 'Employer_7_Years_Likelihood',\n",
    "    'Email address': 'Email _address',\n",
    "    'For the First 3 years of your career, what is your minimum expected monthly salary in Hand?': 'Career_Initial_Salary',\n",
    "    'After 5 years of your career from now, what is your minimum expected monthly salary in Hand?': 'Career_5_Years_Salary',\n",
    "    'Would you work for a company that has NO-REMOTE working policy': 'No_Remote_Working_Policy',\n",
    "    'What is your minimum expectations of salary when you are starting your career (Monthly in hand salary)': 'Starting_Salary_Expectation',\n",
    "    'What Kind of company would you like to work': 'Preferred_Company_Type',\n",
    "    'Would you work under a manager who uses abusive words at workplace or if you get to know the manager has done that in the past': 'Abusive_Manager',\n",
    "    'How many hours would you be willing to work every day': 'Hours_Per_Day',\n",
    "    'How often do you need a full week break, to stay healthy with the work life balance, in months': 'Full_Week_Break_Frequency',\n",
    "    'What would make you happier and productive at work': 'Happiness_At_Work',\n",
    "    'What would frustrate you at work ?': 'Frustration_At_Work'\n",
    "}, inplace=True)\n"
   ]
  },
  {
   "cell_type": "code",
   "execution_count": 47,
   "id": "e28e2043-014a-48d9-90ae-46cec3341d62",
   "metadata": {},
   "outputs": [
    {
     "data": {
      "text/plain": [
       "Index(['Timestamp', 'Current_Country', 'Current_Zip_Code', 'Gender',\n",
       "       'Career_Influence', 'Higher_Education_Outside_India',\n",
       "       'Employer_3_Years_Likelihood', 'Undefined_Mission_Company',\n",
       "       'Misaligned_Mission_Company', 'No_Social_Impact_Company',\n",
       "       'Preferred_Working_Environment', 'Preferred_Employers',\n",
       "       'Learning_Environment', 'Aspirational_Career', 'Preferred_Manager',\n",
       "       'Work_Setup', 'Laid_Off_Company', 'Employer_7_Years_Likelihood',\n",
       "       'Email _address', 'Career_Initial_Salary', 'Career_5_Years_Salary',\n",
       "       'No_Remote_Working_Policy', 'Starting_Salary_Expectation',\n",
       "       'Preferred_Company_Type', 'Abusive_Manager', 'Hours_Per_Day',\n",
       "       'Full_Week_Break_Frequency', 'Happiness_At_Work',\n",
       "       'Frustration_At_Work'],\n",
       "      dtype='object')"
      ]
     },
     "execution_count": 47,
     "metadata": {},
     "output_type": "execute_result"
    }
   ],
   "source": [
    "df.columns"
   ]
  },
  {
   "cell_type": "code",
   "execution_count": 48,
   "id": "cde7f1d2-438f-4f44-bdf3-7667d759f135",
   "metadata": {},
   "outputs": [
    {
     "data": {
      "text/plain": [
       "29"
      ]
     },
     "execution_count": 48,
     "metadata": {},
     "output_type": "execute_result"
    }
   ],
   "source": [
    "len(df.columns)"
   ]
  },
  {
   "cell_type": "markdown",
   "id": "ccff2597-db6d-4bc7-8ff9-3c004a1b0c2e",
   "metadata": {},
   "source": [
    "# Changing column values according to that meaning or Clean Up Data Values"
   ]
  },
  {
   "cell_type": "code",
   "execution_count": 49,
   "id": "23aa13f0-a8b3-4f60-ab5a-07f37c26c46c",
   "metadata": {},
   "outputs": [
    {
     "data": {
      "text/plain": [
       "array(['People who have changed the world for better',\n",
       "       'Social Media like LinkedIn',\n",
       "       'People from my circle, but not family members',\n",
       "       'Influencers who had successful careers', 'My Parents',\n",
       "       'My Friends', 'Social Media like LinkedIn, YouTube, Instagram',\n",
       "       'Movies'], dtype=object)"
      ]
     },
     "execution_count": 49,
     "metadata": {},
     "output_type": "execute_result"
    }
   ],
   "source": [
    "df['Career_Influence'].unique()"
   ]
  },
  {
   "cell_type": "code",
   "execution_count": 50,
   "id": "4625f1d7-878c-4fc1-881d-07a52bd9948d",
   "metadata": {},
   "outputs": [
    {
     "data": {
      "text/plain": [
       "array(['Changemakers', 'LinkedIn', 'Circle (Not Family)',\n",
       "       'Career Influencers', 'Parents', 'Friends', 'Social Media',\n",
       "       'Movies'], dtype=object)"
      ]
     },
     "execution_count": 50,
     "metadata": {},
     "output_type": "execute_result"
    }
   ],
   "source": [
    "shorten_map1 = {\n",
    "    'People who have changed the world for better': 'Changemakers',\n",
    "    'Social Media like LinkedIn': 'LinkedIn',\n",
    "    'People from my circle, but not family members': 'Circle (Not Family)',\n",
    "    'Influencers who had successful careers': 'Career Influencers',\n",
    "    'My Parents': 'Parents',\n",
    "    'My Friends': 'Friends',\n",
    "    'Social Media like LinkedIn, YouTube, Instagram': 'Social Media',\n",
    "    'Movies': 'Movies'\n",
    "}\n",
    "# Apply the mapping\n",
    "df['Career_Influence'] = df['Career_Influence'].map(shorten_map1)\n",
    "\n",
    "df['Career_Influence'].unique()"
   ]
  },
  {
   "cell_type": "code",
   "execution_count": 51,
   "id": "8483139f-19b9-40e6-b45e-7fe4fb40f707",
   "metadata": {},
   "outputs": [],
   "source": [
    "# Mapping dictionary\n",
    "shorten_map2 = {\n",
    "    'Yes, I will earn and do that': 'Self-Funded Yes',\n",
    "    'No, But if someone could bare the cost I will': 'Cost-Dependent Yes',\n",
    "    'No I would not be pursuing Higher Education outside of India': 'No'\n",
    "}\n",
    "\n",
    "# Apply the mapping\n",
    "df['Higher_Education_Outside_India'] = df['Higher_Education_Outside_India'].map(shorten_map2)"
   ]
  },
  {
   "cell_type": "code",
   "execution_count": 52,
   "id": "0e8b94d5-7258-49d1-b901-6bb417b81bfb",
   "metadata": {},
   "outputs": [
    {
     "data": {
      "text/plain": [
       "array(['Self-Funded Yes', 'Cost-Dependent Yes', 'No'], dtype=object)"
      ]
     },
     "execution_count": 52,
     "metadata": {},
     "output_type": "execute_result"
    }
   ],
   "source": [
    "df['Higher_Education_Outside_India'].unique()"
   ]
  },
  {
   "cell_type": "code",
   "execution_count": 53,
   "id": "444ab17d-6549-4cc1-bf29-5ad1cecdd254",
   "metadata": {},
   "outputs": [],
   "source": [
    "# Mapping dictionary\n",
    "shorten_map3 = {\n",
    "    'This will be hard to do, but if it is the right company I would try': 'Hard but Possible',\n",
    "    'Will work for 3 years or more': 'Yes, 3+ Years',\n",
    "    'No way, 3 years with one employer is crazy': 'No, 3 Years is Crazy',\n",
    "    'No way': 'No Way'\n",
    "}\n",
    "\n",
    "# Apply the mapping\n",
    "df['Employer_3_Years_Likelihood'] = df['Employer_3_Years_Likelihood'].map(shorten_map3)"
   ]
  },
  {
   "cell_type": "code",
   "execution_count": 54,
   "id": "4a1d7b27-d62e-41bb-851c-985e9e06d0ed",
   "metadata": {},
   "outputs": [
    {
     "data": {
      "text/plain": [
       "array(['Hard but Possible', 'Yes, 3+ Years', 'No, 3 Years is Crazy',\n",
       "       'No Way'], dtype=object)"
      ]
     },
     "execution_count": 54,
     "metadata": {},
     "output_type": "execute_result"
    }
   ],
   "source": [
    "df['Employer_3_Years_Likelihood'].unique()"
   ]
  },
  {
   "cell_type": "code",
   "execution_count": 55,
   "id": "3d7f94ac-84cc-439e-b4cc-75ca6f344a95",
   "metadata": {},
   "outputs": [],
   "source": [
    "# Mapping dictionary\n",
    "shorten_map4 = {\n",
    "    'Will NOT work for them': 'No',\n",
    "    'Will work for them': 'Yes'\n",
    "}\n",
    "\n",
    "# Apply the mapping\n",
    "df['Misaligned_Mission_Company'] = df['Misaligned_Mission_Company'].map(shorten_map4)"
   ]
  },
  {
   "cell_type": "code",
   "execution_count": 56,
   "id": "4d9da98d-f85d-488f-871f-5b7178044da7",
   "metadata": {},
   "outputs": [
    {
     "data": {
      "text/plain": [
       "array(['No', 'Yes'], dtype=object)"
      ]
     },
     "execution_count": 56,
     "metadata": {},
     "output_type": "execute_result"
    }
   ],
   "source": [
    "df['Misaligned_Mission_Company'].unique()"
   ]
  },
  {
   "cell_type": "code",
   "execution_count": 57,
   "id": "1377dc42-c83b-4df5-be09-eebaecac7ab5",
   "metadata": {},
   "outputs": [],
   "source": [
    "# Mapping dictionary\n",
    "shorten_map5 = {\n",
    "    'Fully Remote with No option to visit offices': 'Fully Remote (No Office Visits)',\n",
    "    'Fully Remote with Options to travel as and when needed': 'Fully Remote (With Travel)',\n",
    "    'Hybrid Working Environment with less than 15 days a month at office': 'Hybrid (<15 Days/Month)',\n",
    "    'Every Day Office Environment': 'Full Office',\n",
    "    'Hybrid Working Environment with less than 10 days a month at office': 'Hybrid (<10 Days/Month)',\n",
    "    'Hybrid Working Environment with less than 3 days a month at office': 'Hybrid (<3 Days/Month)',\n",
    "    'Hybrid Working Environment with more than 15 days a month at office': 'Hybrid (>15 Days/Month)'\n",
    "}\n",
    "\n",
    "# Apply the mapping\n",
    "df['Preferred_Working_Environment'] = df['Preferred_Working_Environment'].map(shorten_map5)"
   ]
  },
  {
   "cell_type": "code",
   "execution_count": 58,
   "id": "405c44ac-de04-48a0-9158-ddac9d3063bf",
   "metadata": {},
   "outputs": [
    {
     "data": {
      "text/plain": [
       "array(['Fully Remote (No Office Visits)', 'Fully Remote (With Travel)',\n",
       "       'Hybrid (<15 Days/Month)', 'Full Office',\n",
       "       'Hybrid (<10 Days/Month)', 'Hybrid (<3 Days/Month)',\n",
       "       'Hybrid (>15 Days/Month)'], dtype=object)"
      ]
     },
     "execution_count": 58,
     "metadata": {},
     "output_type": "execute_result"
    }
   ],
   "source": [
    "df['Preferred_Working_Environment'].unique()"
   ]
  },
  {
   "cell_type": "code",
   "execution_count": 59,
   "id": "3e1b7fd5-fa79-49f7-9834-5545e1f45361",
   "metadata": {},
   "outputs": [],
   "source": [
    "# Mapping dictionary\n",
    "shorten_map6 = {\n",
    "    'Employer who rewards learning and enables that environment': 'Rewards Learning',\n",
    "    'Employer who pushes your limits by enabling an learning environment, and rewards you at the end': 'Pushes Limits + Rewards Learning',\n",
    "    'Employer who appreciates learning and enables that environment': 'Appreciates + Enables Learning',\n",
    "    \"Employer who pushes your limits and doesn't enables learning environment and never rewards you\": 'Pushes Limits + No Learning/Rewards',\n",
    "    \"Employers who appreciates learning but doesn't enables an learning environment\": 'Appreciates, No Learning Environment'\n",
    "}\n",
    "\n",
    "# Apply the mapping\n",
    "df['Preferred_Employers'] = df['Preferred_Employers'].map(shorten_map6)\n"
   ]
  },
  {
   "cell_type": "code",
   "execution_count": 60,
   "id": "62f6078f-08bd-4aeb-9065-5450f282b3ae",
   "metadata": {},
   "outputs": [
    {
     "data": {
      "text/plain": [
       "array(['Rewards Learning', 'Pushes Limits + Rewards Learning',\n",
       "       'Appreciates + Enables Learning',\n",
       "       'Pushes Limits + No Learning/Rewards',\n",
       "       'Appreciates, No Learning Environment'], dtype=object)"
      ]
     },
     "execution_count": 60,
     "metadata": {},
     "output_type": "execute_result"
    }
   ],
   "source": [
    "df['Preferred_Employers'].unique()"
   ]
  },
  {
   "cell_type": "code",
   "execution_count": 61,
   "id": "71994cd4-48d6-4273-9ffa-a9cce1133acf",
   "metadata": {},
   "outputs": [],
   "source": [
    "# Mapping dictionary\n",
    "shorten_map7 = {\n",
    "    'Manager who explains what is expected, sets a goal and helps achieve it': 'Explains, Sets Goals & Helps',\n",
    "    'Manager who sets goal and helps me achieve it': 'Sets Goals & Helps',\n",
    "    'Manager who clearly describes what she/he needs': 'Clearly Describes Expectations',\n",
    "    'Manager who sets targets and expects me to achieve it': 'Sets Targets Only',\n",
    "    'Manager who sets unrealistic targets': 'Sets Unrealistic Targets'\n",
    "}\n",
    "\n",
    "# Apply the mapping\n",
    "df['Preferred_Manager'] = df['Preferred_Manager'].map(shorten_map7)"
   ]
  },
  {
   "cell_type": "code",
   "execution_count": 62,
   "id": "6a689daf-ee1c-4edb-9039-3ee4ab6a6d94",
   "metadata": {},
   "outputs": [
    {
     "data": {
      "text/plain": [
       "array(['Explains, Sets Goals & Helps', 'Sets Goals & Helps',\n",
       "       'Clearly Describes Expectations', 'Sets Targets Only',\n",
       "       'Sets Unrealistic Targets'], dtype=object)"
      ]
     },
     "execution_count": 62,
     "metadata": {},
     "output_type": "execute_result"
    }
   ],
   "source": [
    "df['Preferred_Manager'].unique()"
   ]
  },
  {
   "cell_type": "code",
   "execution_count": 63,
   "id": "69a9a17b-2aaa-42d0-b1fd-8ea43204aa67",
   "metadata": {},
   "outputs": [],
   "source": [
    "# Define a function to categorize the work setup\n",
    "def categorize_work_setup(work_setup):\n",
    "    if 'Work alone' in work_setup and ',' not in work_setup:\n",
    "        return 'Work alone'\n",
    "    elif '2 to 3 people' in work_setup or '5 to 6 people' in work_setup:\n",
    "        if '7 to 10' in work_setup or 'more than 10' in work_setup:\n",
    "            return 'Flexible (Multiple Choices)'\n",
    "        return 'Small Team (2-6 people)'\n",
    "    elif '7 to 10' in work_setup:\n",
    "        if 'more than 10' in work_setup:\n",
    "            return 'Flexible (Multiple Choices)'\n",
    "        return 'Medium Team (7-10 people)'\n",
    "    elif 'more than 10' in work_setup:\n",
    "        return 'Large Team (10+ people)'\n",
    "    else:\n",
    "        return 'Flexible (Multiple Choices)'\n",
    "\n",
    "# Apply the function to the dataset\n",
    "df['Work_Setup'] = df['Work_Setup'].apply(categorize_work_setup)\n"
   ]
  },
  {
   "cell_type": "code",
   "execution_count": 64,
   "id": "eb20cc32-0d36-481a-8817-a37583899185",
   "metadata": {},
   "outputs": [
    {
     "data": {
      "text/plain": [
       "array(['Flexible (Multiple Choices)', 'Small Team (2-6 people)',\n",
       "       'Medium Team (7-10 people)', 'Work alone',\n",
       "       'Large Team (10+ people)'], dtype=object)"
      ]
     },
     "execution_count": 64,
     "metadata": {},
     "output_type": "execute_result"
    }
   ],
   "source": [
    "df['Work_Setup'].unique()"
   ]
  },
  {
   "cell_type": "code",
   "execution_count": 65,
   "id": "dfdd052a-b54e-42a2-ae51-89d5ddced9de",
   "metadata": {},
   "outputs": [],
   "source": [
    "# Mapping dictionary\n",
    "shorten_map8 = {\n",
    "    'Yes': 'Yes',\n",
    "    'No': 'No',\n",
    "    'Unknown': 'Unknown',\n",
    "    'Yes, I Understand this is gonna happen everywhere': 'Understand & Accept',\n",
    "    'I have NO other choice': 'No Choice'\n",
    "}\n",
    "\n",
    "# Apply the mapping\n",
    "df['Laid_Off_Company'] = df['Laid_Off_Company'].map(shorten_map8)"
   ]
  },
  {
   "cell_type": "code",
   "execution_count": 66,
   "id": "f8d90625-1d3f-4d6f-84e0-956492fba01b",
   "metadata": {},
   "outputs": [
    {
     "data": {
      "text/plain": [
       "array(['Unknown', 'Understand & Accept', 'No', 'No Choice', 'Yes'],\n",
       "      dtype=object)"
      ]
     },
     "execution_count": 66,
     "metadata": {},
     "output_type": "execute_result"
    }
   ],
   "source": [
    "df['Laid_Off_Company'].unique()"
   ]
  },
  {
   "cell_type": "code",
   "execution_count": 67,
   "id": "e9bbf4b0-7f00-4e39-9bce-f1bbf7bf7c52",
   "metadata": {},
   "outputs": [],
   "source": [
    "# Mapping dictionary\n",
    "shorten_map9 = {\n",
    "    'Will work for 7 years or more': 'Yes',\n",
    "    'No way': 'No',\n",
    "    'This will be hard to do, but if it is the right company I would try': 'Maybe',\n",
    "    'Unknown': 'Unknown'\n",
    "}\n",
    "\n",
    "# Apply the mapping\n",
    "df['Employer_7_Years_Likelihood'] = df['Employer_7_Years_Likelihood'].map(shorten_map9)"
   ]
  },
  {
   "cell_type": "code",
   "execution_count": 68,
   "id": "2059364a-d863-4ded-a495-1d2a8072ee3f",
   "metadata": {},
   "outputs": [
    {
     "data": {
      "text/plain": [
       "array(['Unknown', 'No', 'Maybe', 'Yes'], dtype=object)"
      ]
     },
     "execution_count": 68,
     "metadata": {},
     "output_type": "execute_result"
    }
   ],
   "source": [
    "df['Employer_7_Years_Likelihood'].unique()"
   ]
  },
  {
   "cell_type": "code",
   "execution_count": 69,
   "id": "bf2cc76d-5737-4aec-9f43-0e7d51487c7c",
   "metadata": {},
   "outputs": [],
   "source": [
    "# Mapping dictionary\n",
    "shorten_map10 = {\n",
    "    'No Preference': 'No Preference',\n",
    "    'Startups (51 to 250 Employees)': 'Startups',\n",
    "    'Corporations (3000+ employees)': 'Large Companies',\n",
    "    'Mid Size Companies (251 to 1000 employees)': 'Mid Size Companies',\n",
    "    'Startups (Less than 50 empoyees)': 'Startups',\n",
    "    'Large Companies (1001 to 3000 employees)': 'Large Companies'\n",
    "}\n",
    "\n",
    "# Apply the mapping\n",
    "df['Preferred_Company_Type'] = df['Preferred_Company_Type'].map(shorten_map10)"
   ]
  },
  {
   "cell_type": "code",
   "execution_count": 70,
   "id": "e6d3b07c-1b9f-447a-ad44-0d740fa9bf15",
   "metadata": {},
   "outputs": [
    {
     "data": {
      "text/plain": [
       "array(['No Preference', 'Startups', 'Large Companies',\n",
       "       'Mid Size Companies'], dtype=object)"
      ]
     },
     "execution_count": 70,
     "metadata": {},
     "output_type": "execute_result"
    }
   ],
   "source": [
    "df['Preferred_Company_Type'].unique()"
   ]
  },
  {
   "cell_type": "code",
   "execution_count": 71,
   "id": "e699af98-0dd6-42c9-852d-284aa4c3c81b",
   "metadata": {},
   "outputs": [
    {
     "data": {
      "text/plain": [
       "array(['Not Specified', 'Political Environment', 'Unsupportive Managers',\n",
       "       'Unclear work without any goals', 'Lack of Transparency',\n",
       "       'Unclear work with a goal', 'Often a need to learn New Skills',\n",
       "       'High stressful job'], dtype=object)"
      ]
     },
     "execution_count": 71,
     "metadata": {},
     "output_type": "execute_result"
    }
   ],
   "source": [
    "df['Frustration_At_Work'].unique()"
   ]
  },
  {
   "cell_type": "code",
   "execution_count": 72,
   "id": "ce1e0205-c32d-4279-b4cc-cd17ad56c4e6",
   "metadata": {},
   "outputs": [],
   "source": [
    "# Mapping dictionary\n",
    "shorten_map11 = {\n",
    "    'Not Specified': 'Not Specified',\n",
    "    'Political Environment': 'Management Issues',\n",
    "    'Unsupportive Managers': 'Management Issues',\n",
    "    'Unclear work without any goals': 'Unclear Work',\n",
    "    'Lack of Transparency': 'Lack of Transparency',\n",
    "    'Unclear work with a goal': 'Unclear Work',\n",
    "    'Often a need to learn New Skills': 'Learning and Growth',\n",
    "    'High stressful job': 'Stress'\n",
    "}\n",
    "\n",
    "# Apply the mapping with handling for any unmatched values\n",
    "df['Frustration_At_Work'] = df['Frustration_At_Work'].map(shorten_map11)\n"
   ]
  },
  {
   "cell_type": "code",
   "execution_count": 73,
   "id": "3e38e1fc-b1b2-40dc-ba3c-d32ce9521ea8",
   "metadata": {},
   "outputs": [
    {
     "data": {
      "text/plain": [
       "array(['Not Specified', 'Management Issues', 'Unclear Work',\n",
       "       'Lack of Transparency', 'Learning and Growth', 'Stress'],\n",
       "      dtype=object)"
      ]
     },
     "execution_count": 73,
     "metadata": {},
     "output_type": "execute_result"
    }
   ],
   "source": [
    "df['Frustration_At_Work'].unique()"
   ]
  },
  {
   "cell_type": "code",
   "execution_count": null,
   "id": "40a18405-5a25-4a2f-b4ad-5091d454084f",
   "metadata": {},
   "outputs": [],
   "source": []
  },
  {
   "cell_type": "markdown",
   "id": "889564c9-e516-49b1-89b6-e9b84c65cb32",
   "metadata": {},
   "source": [
    "# Handiling unwanted strings and replace it"
   ]
  },
  {
   "cell_type": "code",
   "execution_count": 74,
   "id": "f79bda5c-d8be-46f5-be76-ba79a6b22032",
   "metadata": {},
   "outputs": [
    {
     "data": {
      "text/html": [
       "<div>\n",
       "<style scoped>\n",
       "    .dataframe tbody tr th:only-of-type {\n",
       "        vertical-align: middle;\n",
       "    }\n",
       "\n",
       "    .dataframe tbody tr th {\n",
       "        vertical-align: top;\n",
       "    }\n",
       "\n",
       "    .dataframe thead th {\n",
       "        text-align: right;\n",
       "    }\n",
       "</style>\n",
       "<table border=\"1\" class=\"dataframe\">\n",
       "  <thead>\n",
       "    <tr style=\"text-align: right;\">\n",
       "      <th></th>\n",
       "      <th>Timestamp</th>\n",
       "      <th>Current_Country</th>\n",
       "      <th>Current_Zip_Code</th>\n",
       "      <th>Gender</th>\n",
       "      <th>Career_Influence</th>\n",
       "      <th>Higher_Education_Outside_India</th>\n",
       "      <th>Employer_3_Years_Likelihood</th>\n",
       "      <th>Undefined_Mission_Company</th>\n",
       "      <th>Misaligned_Mission_Company</th>\n",
       "      <th>No_Social_Impact_Company</th>\n",
       "      <th>...</th>\n",
       "      <th>Career_Initial_Salary</th>\n",
       "      <th>Career_5_Years_Salary</th>\n",
       "      <th>No_Remote_Working_Policy</th>\n",
       "      <th>Starting_Salary_Expectation</th>\n",
       "      <th>Preferred_Company_Type</th>\n",
       "      <th>Abusive_Manager</th>\n",
       "      <th>Hours_Per_Day</th>\n",
       "      <th>Full_Week_Break_Frequency</th>\n",
       "      <th>Happiness_At_Work</th>\n",
       "      <th>Frustration_At_Work</th>\n",
       "    </tr>\n",
       "  </thead>\n",
       "  <tbody>\n",
       "    <tr>\n",
       "      <th>944</th>\n",
       "      <td>2023-04-08 23:05:16</td>\n",
       "      <td>India</td>\n",
       "      <td>-</td>\n",
       "      <td>Female</td>\n",
       "      <td>Career Influencers</td>\n",
       "      <td>No</td>\n",
       "      <td>Hard but Possible</td>\n",
       "      <td>No</td>\n",
       "      <td>No</td>\n",
       "      <td>5</td>\n",
       "      <td>...</td>\n",
       "      <td>&gt;50k</td>\n",
       "      <td>91k to 110k</td>\n",
       "      <td>0</td>\n",
       "      <td>0</td>\n",
       "      <td>No Preference</td>\n",
       "      <td>No Response</td>\n",
       "      <td>0</td>\n",
       "      <td>0</td>\n",
       "      <td>Not Specified</td>\n",
       "      <td>Not Specified</td>\n",
       "    </tr>\n",
       "    <tr>\n",
       "      <th>1583</th>\n",
       "      <td>2023-04-29 21:11:07</td>\n",
       "      <td>Canada</td>\n",
       "      <td>Xxxxx</td>\n",
       "      <td>Male</td>\n",
       "      <td>Circle (Not Family)</td>\n",
       "      <td>Cost-Dependent Yes</td>\n",
       "      <td>Hard but Possible</td>\n",
       "      <td>No</td>\n",
       "      <td>No</td>\n",
       "      <td>5</td>\n",
       "      <td>...</td>\n",
       "      <td>31k to 40k</td>\n",
       "      <td>50k to 70k</td>\n",
       "      <td>0</td>\n",
       "      <td>0</td>\n",
       "      <td>No Preference</td>\n",
       "      <td>No Response</td>\n",
       "      <td>0</td>\n",
       "      <td>0</td>\n",
       "      <td>Not Specified</td>\n",
       "      <td>Not Specified</td>\n",
       "    </tr>\n",
       "    <tr>\n",
       "      <th>1587</th>\n",
       "      <td>2023-04-29 21:16:31</td>\n",
       "      <td>Canada</td>\n",
       "      <td>Xxxx</td>\n",
       "      <td>Male</td>\n",
       "      <td>Parents</td>\n",
       "      <td>Cost-Dependent Yes</td>\n",
       "      <td>Yes, 3+ Years</td>\n",
       "      <td>No</td>\n",
       "      <td>Yes</td>\n",
       "      <td>5</td>\n",
       "      <td>...</td>\n",
       "      <td>26k to 30k</td>\n",
       "      <td>91k to 110k</td>\n",
       "      <td>0</td>\n",
       "      <td>0</td>\n",
       "      <td>No Preference</td>\n",
       "      <td>No Response</td>\n",
       "      <td>0</td>\n",
       "      <td>0</td>\n",
       "      <td>Not Specified</td>\n",
       "      <td>Not Specified</td>\n",
       "    </tr>\n",
       "    <tr>\n",
       "      <th>3820</th>\n",
       "      <td>2024-03-28 17:55:55</td>\n",
       "      <td>Others</td>\n",
       "      <td>...</td>\n",
       "      <td>Female</td>\n",
       "      <td>Changemakers</td>\n",
       "      <td>Cost-Dependent Yes</td>\n",
       "      <td>Hard but Possible</td>\n",
       "      <td>Yes</td>\n",
       "      <td>No</td>\n",
       "      <td>5</td>\n",
       "      <td>...</td>\n",
       "      <td>11k to 15k</td>\n",
       "      <td>71k to 90k</td>\n",
       "      <td>1</td>\n",
       "      <td>10k to 15k</td>\n",
       "      <td>Startups</td>\n",
       "      <td>No</td>\n",
       "      <td>6</td>\n",
       "      <td>3</td>\n",
       "      <td>A great compensation, Less working hours, Mean...</td>\n",
       "      <td>Unclear Work</td>\n",
       "    </tr>\n",
       "  </tbody>\n",
       "</table>\n",
       "<p>4 rows × 29 columns</p>\n",
       "</div>"
      ],
      "text/plain": [
       "               Timestamp Current_Country Current_Zip_Code  Gender  \\\n",
       "944  2023-04-08 23:05:16           India                -  Female   \n",
       "1583 2023-04-29 21:11:07          Canada            Xxxxx    Male   \n",
       "1587 2023-04-29 21:16:31          Canada             Xxxx    Male   \n",
       "3820 2024-03-28 17:55:55          Others              ...  Female   \n",
       "\n",
       "         Career_Influence Higher_Education_Outside_India  \\\n",
       "944    Career Influencers                             No   \n",
       "1583  Circle (Not Family)             Cost-Dependent Yes   \n",
       "1587              Parents             Cost-Dependent Yes   \n",
       "3820         Changemakers             Cost-Dependent Yes   \n",
       "\n",
       "     Employer_3_Years_Likelihood Undefined_Mission_Company  \\\n",
       "944            Hard but Possible                        No   \n",
       "1583           Hard but Possible                        No   \n",
       "1587               Yes, 3+ Years                        No   \n",
       "3820           Hard but Possible                       Yes   \n",
       "\n",
       "     Misaligned_Mission_Company  No_Social_Impact_Company  ...  \\\n",
       "944                          No                         5  ...   \n",
       "1583                         No                         5  ...   \n",
       "1587                        Yes                         5  ...   \n",
       "3820                         No                         5  ...   \n",
       "\n",
       "     Career_Initial_Salary Career_5_Years_Salary No_Remote_Working_Policy  \\\n",
       "944                   >50k           91k to 110k                        0   \n",
       "1583            31k to 40k            50k to 70k                        0   \n",
       "1587            26k to 30k           91k to 110k                        0   \n",
       "3820            11k to 15k            71k to 90k                        1   \n",
       "\n",
       "     Starting_Salary_Expectation Preferred_Company_Type Abusive_Manager  \\\n",
       "944                            0          No Preference     No Response   \n",
       "1583                           0          No Preference     No Response   \n",
       "1587                           0          No Preference     No Response   \n",
       "3820                  10k to 15k               Startups              No   \n",
       "\n",
       "     Hours_Per_Day Full_Week_Break_Frequency  \\\n",
       "944              0                         0   \n",
       "1583             0                         0   \n",
       "1587             0                         0   \n",
       "3820             6                         3   \n",
       "\n",
       "                                      Happiness_At_Work Frustration_At_Work  \n",
       "944                                       Not Specified       Not Specified  \n",
       "1583                                      Not Specified       Not Specified  \n",
       "1587                                      Not Specified       Not Specified  \n",
       "3820  A great compensation, Less working hours, Mean...        Unclear Work  \n",
       "\n",
       "[4 rows x 29 columns]"
      ]
     },
     "execution_count": 74,
     "metadata": {},
     "output_type": "execute_result"
    }
   ],
   "source": [
    "patterns = [\"Xxxxx\", \"Xxxx\", \"-\", \"...\"]\n",
    "\n",
    "matching_rows = df[df[\"Current_Zip_Code\"].isin(patterns)]\n",
    "matching_rows"
   ]
  },
  {
   "cell_type": "markdown",
   "id": "4b8e17eb-e08e-4032-a4ca-bafd251da922",
   "metadata": {},
   "source": [
    "# Handilng  spaces or tabs or invisible white spaces"
   ]
  },
  {
   "cell_type": "code",
   "execution_count": 75,
   "id": "03325c7c-8f61-4f9e-95d4-7df51bf999d3",
   "metadata": {},
   "outputs": [
    {
     "data": {
      "text/html": [
       "<div>\n",
       "<style scoped>\n",
       "    .dataframe tbody tr th:only-of-type {\n",
       "        vertical-align: middle;\n",
       "    }\n",
       "\n",
       "    .dataframe tbody tr th {\n",
       "        vertical-align: top;\n",
       "    }\n",
       "\n",
       "    .dataframe thead th {\n",
       "        text-align: right;\n",
       "    }\n",
       "</style>\n",
       "<table border=\"1\" class=\"dataframe\">\n",
       "  <thead>\n",
       "    <tr style=\"text-align: right;\">\n",
       "      <th></th>\n",
       "      <th>Timestamp</th>\n",
       "      <th>Current_Country</th>\n",
       "      <th>Current_Zip_Code</th>\n",
       "      <th>Gender</th>\n",
       "      <th>Career_Influence</th>\n",
       "      <th>Higher_Education_Outside_India</th>\n",
       "      <th>Employer_3_Years_Likelihood</th>\n",
       "      <th>Undefined_Mission_Company</th>\n",
       "      <th>Misaligned_Mission_Company</th>\n",
       "      <th>No_Social_Impact_Company</th>\n",
       "      <th>...</th>\n",
       "      <th>Career_Initial_Salary</th>\n",
       "      <th>Career_5_Years_Salary</th>\n",
       "      <th>No_Remote_Working_Policy</th>\n",
       "      <th>Starting_Salary_Expectation</th>\n",
       "      <th>Preferred_Company_Type</th>\n",
       "      <th>Abusive_Manager</th>\n",
       "      <th>Hours_Per_Day</th>\n",
       "      <th>Full_Week_Break_Frequency</th>\n",
       "      <th>Happiness_At_Work</th>\n",
       "      <th>Frustration_At_Work</th>\n",
       "    </tr>\n",
       "  </thead>\n",
       "  <tbody>\n",
       "    <tr>\n",
       "      <th>3523</th>\n",
       "      <td>2024-01-05 12:46:40</td>\n",
       "      <td>India</td>\n",
       "      <td></td>\n",
       "      <td>Female</td>\n",
       "      <td>Friends</td>\n",
       "      <td>No</td>\n",
       "      <td>Yes, 3+ Years</td>\n",
       "      <td>No</td>\n",
       "      <td>No</td>\n",
       "      <td>7</td>\n",
       "      <td>...</td>\n",
       "      <td>41k to 50k</td>\n",
       "      <td>71k to 90k</td>\n",
       "      <td>3</td>\n",
       "      <td>16k to 20k</td>\n",
       "      <td>Large Companies</td>\n",
       "      <td>No</td>\n",
       "      <td>6</td>\n",
       "      <td>2</td>\n",
       "      <td>Less working hours, Supportive Manager</td>\n",
       "      <td>Management Issues</td>\n",
       "    </tr>\n",
       "  </tbody>\n",
       "</table>\n",
       "<p>1 rows × 29 columns</p>\n",
       "</div>"
      ],
      "text/plain": [
       "               Timestamp Current_Country Current_Zip_Code  Gender  \\\n",
       "3523 2024-01-05 12:46:40           India                   Female   \n",
       "\n",
       "     Career_Influence Higher_Education_Outside_India  \\\n",
       "3523          Friends                             No   \n",
       "\n",
       "     Employer_3_Years_Likelihood Undefined_Mission_Company  \\\n",
       "3523               Yes, 3+ Years                        No   \n",
       "\n",
       "     Misaligned_Mission_Company  No_Social_Impact_Company  ...  \\\n",
       "3523                         No                         7  ...   \n",
       "\n",
       "     Career_Initial_Salary Career_5_Years_Salary No_Remote_Working_Policy  \\\n",
       "3523            41k to 50k            71k to 90k                        3   \n",
       "\n",
       "     Starting_Salary_Expectation Preferred_Company_Type Abusive_Manager  \\\n",
       "3523                  16k to 20k        Large Companies              No   \n",
       "\n",
       "     Hours_Per_Day Full_Week_Break_Frequency  \\\n",
       "3523             6                         2   \n",
       "\n",
       "                           Happiness_At_Work Frustration_At_Work  \n",
       "3523  Less working hours, Supportive Manager   Management Issues  \n",
       "\n",
       "[1 rows x 29 columns]"
      ]
     },
     "execution_count": 75,
     "metadata": {},
     "output_type": "execute_result"
    }
   ],
   "source": [
    "blank_rows = df[df[\"Current_Zip_Code\"].str.strip() == \"\"]\n",
    "blank_rows"
   ]
  },
  {
   "cell_type": "code",
   "execution_count": 76,
   "id": "4c95def6-a1f0-40a1-bd3d-06240ac018ab",
   "metadata": {},
   "outputs": [],
   "source": [
    "# Strip leading/trailing spaces or tabs in the 'Your Current Zip Code / Pin Code' column\n",
    "df[\"Current_Zip_Code\"] = df[\"Current_Zip_Code\"].str.strip()\n",
    "\n",
    "# Find the mode of the 'Your Current Zip Code / Pin Code' column\n",
    "mode_value = df[\"Current_Zip_Code\"].mode()[0]\n",
    "\n",
    "# Replace the empty or specific placeholders with the mode value\n",
    "df[\"Current_Zip_Code\"] = df[\"Current_Zip_Code\"].replace([\"\", \"Xxxxx\", \"Xxxx\", \"-\", \"...\"], mode_value)"
   ]
  },
  {
   "cell_type": "code",
   "execution_count": 77,
   "id": "fc307f45-3cea-412e-98aa-4f37b7123fb6",
   "metadata": {},
   "outputs": [
    {
     "data": {
      "text/html": [
       "<div>\n",
       "<style scoped>\n",
       "    .dataframe tbody tr th:only-of-type {\n",
       "        vertical-align: middle;\n",
       "    }\n",
       "\n",
       "    .dataframe tbody tr th {\n",
       "        vertical-align: top;\n",
       "    }\n",
       "\n",
       "    .dataframe thead th {\n",
       "        text-align: right;\n",
       "    }\n",
       "</style>\n",
       "<table border=\"1\" class=\"dataframe\">\n",
       "  <thead>\n",
       "    <tr style=\"text-align: right;\">\n",
       "      <th></th>\n",
       "      <th>Timestamp</th>\n",
       "      <th>Current_Country</th>\n",
       "      <th>Current_Zip_Code</th>\n",
       "      <th>Gender</th>\n",
       "      <th>Career_Influence</th>\n",
       "      <th>Higher_Education_Outside_India</th>\n",
       "      <th>Employer_3_Years_Likelihood</th>\n",
       "      <th>Undefined_Mission_Company</th>\n",
       "      <th>Misaligned_Mission_Company</th>\n",
       "      <th>No_Social_Impact_Company</th>\n",
       "      <th>...</th>\n",
       "      <th>Career_Initial_Salary</th>\n",
       "      <th>Career_5_Years_Salary</th>\n",
       "      <th>No_Remote_Working_Policy</th>\n",
       "      <th>Starting_Salary_Expectation</th>\n",
       "      <th>Preferred_Company_Type</th>\n",
       "      <th>Abusive_Manager</th>\n",
       "      <th>Hours_Per_Day</th>\n",
       "      <th>Full_Week_Break_Frequency</th>\n",
       "      <th>Happiness_At_Work</th>\n",
       "      <th>Frustration_At_Work</th>\n",
       "    </tr>\n",
       "  </thead>\n",
       "  <tbody>\n",
       "  </tbody>\n",
       "</table>\n",
       "<p>0 rows × 29 columns</p>\n",
       "</div>"
      ],
      "text/plain": [
       "Empty DataFrame\n",
       "Columns: [Timestamp, Current_Country, Current_Zip_Code, Gender, Career_Influence, Higher_Education_Outside_India, Employer_3_Years_Likelihood, Undefined_Mission_Company, Misaligned_Mission_Company, No_Social_Impact_Company, Preferred_Working_Environment, Preferred_Employers, Learning_Environment, Aspirational_Career, Preferred_Manager, Work_Setup, Laid_Off_Company, Employer_7_Years_Likelihood, Email _address, Career_Initial_Salary, Career_5_Years_Salary, No_Remote_Working_Policy, Starting_Salary_Expectation, Preferred_Company_Type, Abusive_Manager, Hours_Per_Day, Full_Week_Break_Frequency, Happiness_At_Work, Frustration_At_Work]\n",
       "Index: []\n",
       "\n",
       "[0 rows x 29 columns]"
      ]
     },
     "execution_count": 77,
     "metadata": {},
     "output_type": "execute_result"
    }
   ],
   "source": [
    "patterns = [\"Xxxxx\", \"Xxxx\", \"-\", \"...\"]\n",
    "\n",
    "df[df[\"Current_Zip_Code\"].isin(patterns)]\n"
   ]
  },
  {
   "cell_type": "markdown",
   "id": "ccd6b2c0-e43d-454c-8cac-ebfeba75f6d5",
   "metadata": {},
   "source": [
    "# Save the Cleaned Data into Excel file"
   ]
  },
  {
   "cell_type": "code",
   "execution_count": 78,
   "id": "80e528aa-8b42-45a1-a00c-ec77b6051cf3",
   "metadata": {},
   "outputs": [],
   "source": [
    "## Save the cleaned dataset in an Excel file\n",
    "output_file = r'C:\\Users\\Tharu\\OneDrive\\Documents\\cleaned_career_aspirations_responses1.xlsx'\n",
    "df.to_excel(output_file, index=True)"
   ]
  },
  {
   "cell_type": "code",
   "execution_count": 79,
   "id": "b2cfb2a1-8681-4824-9c4b-593974ecce58",
   "metadata": {},
   "outputs": [
    {
     "data": {
      "text/plain": [
       "Index(['Timestamp', 'Current_Country', 'Current_Zip_Code', 'Gender',\n",
       "       'Career_Influence', 'Higher_Education_Outside_India',\n",
       "       'Employer_3_Years_Likelihood', 'Undefined_Mission_Company',\n",
       "       'Misaligned_Mission_Company', 'No_Social_Impact_Company',\n",
       "       'Preferred_Working_Environment', 'Preferred_Employers',\n",
       "       'Learning_Environment', 'Aspirational_Career', 'Preferred_Manager',\n",
       "       'Work_Setup', 'Laid_Off_Company', 'Employer_7_Years_Likelihood',\n",
       "       'Email _address', 'Career_Initial_Salary', 'Career_5_Years_Salary',\n",
       "       'No_Remote_Working_Policy', 'Starting_Salary_Expectation',\n",
       "       'Preferred_Company_Type', 'Abusive_Manager', 'Hours_Per_Day',\n",
       "       'Full_Week_Break_Frequency', 'Happiness_At_Work',\n",
       "       'Frustration_At_Work'],\n",
       "      dtype='object')"
      ]
     },
     "execution_count": 79,
     "metadata": {},
     "output_type": "execute_result"
    }
   ],
   "source": [
    "df.columns"
   ]
  },
  {
   "cell_type": "code",
   "execution_count": 80,
   "id": "b6c767d2-1d83-4dac-b742-139a4aa69592",
   "metadata": {},
   "outputs": [],
   "source": [
    "# Assuming df is your DataFrame\n",
    "df['Index'] = range(1, len(df) + 1)  # Creating an index column starting from 1\n"
   ]
  },
  {
   "cell_type": "code",
   "execution_count": 81,
   "id": "1fa94265-9188-4f8b-af50-c115aaf2c832",
   "metadata": {},
   "outputs": [
    {
     "data": {
      "text/html": [
       "<div>\n",
       "<style scoped>\n",
       "    .dataframe tbody tr th:only-of-type {\n",
       "        vertical-align: middle;\n",
       "    }\n",
       "\n",
       "    .dataframe tbody tr th {\n",
       "        vertical-align: top;\n",
       "    }\n",
       "\n",
       "    .dataframe thead th {\n",
       "        text-align: right;\n",
       "    }\n",
       "</style>\n",
       "<table border=\"1\" class=\"dataframe\">\n",
       "  <thead>\n",
       "    <tr style=\"text-align: right;\">\n",
       "      <th></th>\n",
       "      <th>Timestamp</th>\n",
       "      <th>Current_Country</th>\n",
       "      <th>Current_Zip_Code</th>\n",
       "      <th>Gender</th>\n",
       "      <th>Career_Influence</th>\n",
       "      <th>Higher_Education_Outside_India</th>\n",
       "      <th>Employer_3_Years_Likelihood</th>\n",
       "      <th>Undefined_Mission_Company</th>\n",
       "      <th>Misaligned_Mission_Company</th>\n",
       "      <th>No_Social_Impact_Company</th>\n",
       "      <th>...</th>\n",
       "      <th>Career_5_Years_Salary</th>\n",
       "      <th>No_Remote_Working_Policy</th>\n",
       "      <th>Starting_Salary_Expectation</th>\n",
       "      <th>Preferred_Company_Type</th>\n",
       "      <th>Abusive_Manager</th>\n",
       "      <th>Hours_Per_Day</th>\n",
       "      <th>Full_Week_Break_Frequency</th>\n",
       "      <th>Happiness_At_Work</th>\n",
       "      <th>Frustration_At_Work</th>\n",
       "      <th>Index</th>\n",
       "    </tr>\n",
       "  </thead>\n",
       "  <tbody>\n",
       "    <tr>\n",
       "      <th>0</th>\n",
       "      <td>2022-12-16 11:46:06</td>\n",
       "      <td>India</td>\n",
       "      <td>273005</td>\n",
       "      <td>Male</td>\n",
       "      <td>Changemakers</td>\n",
       "      <td>Self-Funded Yes</td>\n",
       "      <td>Hard but Possible</td>\n",
       "      <td>No</td>\n",
       "      <td>No</td>\n",
       "      <td>4</td>\n",
       "      <td>...</td>\n",
       "      <td>91k to 110k</td>\n",
       "      <td>0</td>\n",
       "      <td>0</td>\n",
       "      <td>No Preference</td>\n",
       "      <td>No Response</td>\n",
       "      <td>0</td>\n",
       "      <td>0</td>\n",
       "      <td>Not Specified</td>\n",
       "      <td>Not Specified</td>\n",
       "      <td>1</td>\n",
       "    </tr>\n",
       "    <tr>\n",
       "      <th>1</th>\n",
       "      <td>2022-12-16 11:46:34</td>\n",
       "      <td>India</td>\n",
       "      <td>851129</td>\n",
       "      <td>Male</td>\n",
       "      <td>Changemakers</td>\n",
       "      <td>Cost-Dependent Yes</td>\n",
       "      <td>Hard but Possible</td>\n",
       "      <td>No</td>\n",
       "      <td>No</td>\n",
       "      <td>1</td>\n",
       "      <td>...</td>\n",
       "      <td>50k to 70k</td>\n",
       "      <td>0</td>\n",
       "      <td>0</td>\n",
       "      <td>No Preference</td>\n",
       "      <td>No Response</td>\n",
       "      <td>0</td>\n",
       "      <td>0</td>\n",
       "      <td>Not Specified</td>\n",
       "      <td>Not Specified</td>\n",
       "      <td>2</td>\n",
       "    </tr>\n",
       "    <tr>\n",
       "      <th>2</th>\n",
       "      <td>2022-12-16 11:55:22</td>\n",
       "      <td>India</td>\n",
       "      <td>123106</td>\n",
       "      <td>Female</td>\n",
       "      <td>LinkedIn</td>\n",
       "      <td>Self-Funded Yes</td>\n",
       "      <td>Yes, 3+ Years</td>\n",
       "      <td>Yes</td>\n",
       "      <td>Yes</td>\n",
       "      <td>7</td>\n",
       "      <td>...</td>\n",
       "      <td>91k to 110k</td>\n",
       "      <td>0</td>\n",
       "      <td>0</td>\n",
       "      <td>No Preference</td>\n",
       "      <td>No Response</td>\n",
       "      <td>0</td>\n",
       "      <td>0</td>\n",
       "      <td>Not Specified</td>\n",
       "      <td>Not Specified</td>\n",
       "      <td>3</td>\n",
       "    </tr>\n",
       "    <tr>\n",
       "      <th>3</th>\n",
       "      <td>2022-12-16 11:58:46</td>\n",
       "      <td>India</td>\n",
       "      <td>834003</td>\n",
       "      <td>Male</td>\n",
       "      <td>Circle (Not Family)</td>\n",
       "      <td>Cost-Dependent Yes</td>\n",
       "      <td>Hard but Possible</td>\n",
       "      <td>No</td>\n",
       "      <td>No</td>\n",
       "      <td>6</td>\n",
       "      <td>...</td>\n",
       "      <td>&gt;151k</td>\n",
       "      <td>0</td>\n",
       "      <td>0</td>\n",
       "      <td>No Preference</td>\n",
       "      <td>No Response</td>\n",
       "      <td>0</td>\n",
       "      <td>0</td>\n",
       "      <td>Not Specified</td>\n",
       "      <td>Not Specified</td>\n",
       "      <td>4</td>\n",
       "    </tr>\n",
       "    <tr>\n",
       "      <th>4</th>\n",
       "      <td>2022-12-16 11:59:26</td>\n",
       "      <td>India</td>\n",
       "      <td>301019</td>\n",
       "      <td>Female</td>\n",
       "      <td>Career Influencers</td>\n",
       "      <td>Cost-Dependent Yes</td>\n",
       "      <td>Yes, 3+ Years</td>\n",
       "      <td>No</td>\n",
       "      <td>No</td>\n",
       "      <td>5</td>\n",
       "      <td>...</td>\n",
       "      <td>71k to 90k</td>\n",
       "      <td>0</td>\n",
       "      <td>0</td>\n",
       "      <td>No Preference</td>\n",
       "      <td>No Response</td>\n",
       "      <td>0</td>\n",
       "      <td>0</td>\n",
       "      <td>Not Specified</td>\n",
       "      <td>Not Specified</td>\n",
       "      <td>5</td>\n",
       "    </tr>\n",
       "  </tbody>\n",
       "</table>\n",
       "<p>5 rows × 30 columns</p>\n",
       "</div>"
      ],
      "text/plain": [
       "            Timestamp Current_Country Current_Zip_Code  Gender  \\\n",
       "0 2022-12-16 11:46:06           India           273005    Male   \n",
       "1 2022-12-16 11:46:34           India           851129    Male   \n",
       "2 2022-12-16 11:55:22           India           123106  Female   \n",
       "3 2022-12-16 11:58:46           India           834003    Male   \n",
       "4 2022-12-16 11:59:26           India           301019  Female   \n",
       "\n",
       "      Career_Influence Higher_Education_Outside_India  \\\n",
       "0         Changemakers                Self-Funded Yes   \n",
       "1         Changemakers             Cost-Dependent Yes   \n",
       "2             LinkedIn                Self-Funded Yes   \n",
       "3  Circle (Not Family)             Cost-Dependent Yes   \n",
       "4   Career Influencers             Cost-Dependent Yes   \n",
       "\n",
       "  Employer_3_Years_Likelihood Undefined_Mission_Company  \\\n",
       "0           Hard but Possible                        No   \n",
       "1           Hard but Possible                        No   \n",
       "2               Yes, 3+ Years                       Yes   \n",
       "3           Hard but Possible                        No   \n",
       "4               Yes, 3+ Years                        No   \n",
       "\n",
       "  Misaligned_Mission_Company  No_Social_Impact_Company  ...  \\\n",
       "0                         No                         4  ...   \n",
       "1                         No                         1  ...   \n",
       "2                        Yes                         7  ...   \n",
       "3                         No                         6  ...   \n",
       "4                         No                         5  ...   \n",
       "\n",
       "  Career_5_Years_Salary No_Remote_Working_Policy Starting_Salary_Expectation  \\\n",
       "0           91k to 110k                        0                           0   \n",
       "1            50k to 70k                        0                           0   \n",
       "2           91k to 110k                        0                           0   \n",
       "3                 >151k                        0                           0   \n",
       "4            71k to 90k                        0                           0   \n",
       "\n",
       "  Preferred_Company_Type Abusive_Manager Hours_Per_Day  \\\n",
       "0          No Preference     No Response             0   \n",
       "1          No Preference     No Response             0   \n",
       "2          No Preference     No Response             0   \n",
       "3          No Preference     No Response             0   \n",
       "4          No Preference     No Response             0   \n",
       "\n",
       "  Full_Week_Break_Frequency Happiness_At_Work Frustration_At_Work Index  \n",
       "0                         0     Not Specified       Not Specified     1  \n",
       "1                         0     Not Specified       Not Specified     2  \n",
       "2                         0     Not Specified       Not Specified     3  \n",
       "3                         0     Not Specified       Not Specified     4  \n",
       "4                         0     Not Specified       Not Specified     5  \n",
       "\n",
       "[5 rows x 30 columns]"
      ]
     },
     "execution_count": 81,
     "metadata": {},
     "output_type": "execute_result"
    }
   ],
   "source": [
    "df.head()"
   ]
  },
  {
   "cell_type": "code",
   "execution_count": 82,
   "id": "8deb6fc9-5a0d-476c-9322-df2e9fe29a95",
   "metadata": {},
   "outputs": [],
   "source": [
    "# Reorder columns if you want the Index to be the first column\n",
    "df = df[['Index'] + [col for col in df.columns if col != 'Index']]\n"
   ]
  },
  {
   "cell_type": "code",
   "execution_count": 83,
   "id": "069bd937-7866-4697-a8db-b8ab7709c74c",
   "metadata": {},
   "outputs": [
    {
     "data": {
      "text/html": [
       "<div>\n",
       "<style scoped>\n",
       "    .dataframe tbody tr th:only-of-type {\n",
       "        vertical-align: middle;\n",
       "    }\n",
       "\n",
       "    .dataframe tbody tr th {\n",
       "        vertical-align: top;\n",
       "    }\n",
       "\n",
       "    .dataframe thead th {\n",
       "        text-align: right;\n",
       "    }\n",
       "</style>\n",
       "<table border=\"1\" class=\"dataframe\">\n",
       "  <thead>\n",
       "    <tr style=\"text-align: right;\">\n",
       "      <th></th>\n",
       "      <th>Index</th>\n",
       "      <th>Timestamp</th>\n",
       "      <th>Current_Country</th>\n",
       "      <th>Current_Zip_Code</th>\n",
       "      <th>Gender</th>\n",
       "      <th>Career_Influence</th>\n",
       "      <th>Higher_Education_Outside_India</th>\n",
       "      <th>Employer_3_Years_Likelihood</th>\n",
       "      <th>Undefined_Mission_Company</th>\n",
       "      <th>Misaligned_Mission_Company</th>\n",
       "      <th>...</th>\n",
       "      <th>Career_Initial_Salary</th>\n",
       "      <th>Career_5_Years_Salary</th>\n",
       "      <th>No_Remote_Working_Policy</th>\n",
       "      <th>Starting_Salary_Expectation</th>\n",
       "      <th>Preferred_Company_Type</th>\n",
       "      <th>Abusive_Manager</th>\n",
       "      <th>Hours_Per_Day</th>\n",
       "      <th>Full_Week_Break_Frequency</th>\n",
       "      <th>Happiness_At_Work</th>\n",
       "      <th>Frustration_At_Work</th>\n",
       "    </tr>\n",
       "  </thead>\n",
       "  <tbody>\n",
       "    <tr>\n",
       "      <th>0</th>\n",
       "      <td>1</td>\n",
       "      <td>2022-12-16 11:46:06</td>\n",
       "      <td>India</td>\n",
       "      <td>273005</td>\n",
       "      <td>Male</td>\n",
       "      <td>Changemakers</td>\n",
       "      <td>Self-Funded Yes</td>\n",
       "      <td>Hard but Possible</td>\n",
       "      <td>No</td>\n",
       "      <td>No</td>\n",
       "      <td>...</td>\n",
       "      <td>31k to 40k</td>\n",
       "      <td>91k to 110k</td>\n",
       "      <td>0</td>\n",
       "      <td>0</td>\n",
       "      <td>No Preference</td>\n",
       "      <td>No Response</td>\n",
       "      <td>0</td>\n",
       "      <td>0</td>\n",
       "      <td>Not Specified</td>\n",
       "      <td>Not Specified</td>\n",
       "    </tr>\n",
       "    <tr>\n",
       "      <th>1</th>\n",
       "      <td>2</td>\n",
       "      <td>2022-12-16 11:46:34</td>\n",
       "      <td>India</td>\n",
       "      <td>851129</td>\n",
       "      <td>Male</td>\n",
       "      <td>Changemakers</td>\n",
       "      <td>Cost-Dependent Yes</td>\n",
       "      <td>Hard but Possible</td>\n",
       "      <td>No</td>\n",
       "      <td>No</td>\n",
       "      <td>...</td>\n",
       "      <td>21k to 25k</td>\n",
       "      <td>50k to 70k</td>\n",
       "      <td>0</td>\n",
       "      <td>0</td>\n",
       "      <td>No Preference</td>\n",
       "      <td>No Response</td>\n",
       "      <td>0</td>\n",
       "      <td>0</td>\n",
       "      <td>Not Specified</td>\n",
       "      <td>Not Specified</td>\n",
       "    </tr>\n",
       "    <tr>\n",
       "      <th>2</th>\n",
       "      <td>3</td>\n",
       "      <td>2022-12-16 11:55:22</td>\n",
       "      <td>India</td>\n",
       "      <td>123106</td>\n",
       "      <td>Female</td>\n",
       "      <td>LinkedIn</td>\n",
       "      <td>Self-Funded Yes</td>\n",
       "      <td>Yes, 3+ Years</td>\n",
       "      <td>Yes</td>\n",
       "      <td>Yes</td>\n",
       "      <td>...</td>\n",
       "      <td>21k to 25k</td>\n",
       "      <td>91k to 110k</td>\n",
       "      <td>0</td>\n",
       "      <td>0</td>\n",
       "      <td>No Preference</td>\n",
       "      <td>No Response</td>\n",
       "      <td>0</td>\n",
       "      <td>0</td>\n",
       "      <td>Not Specified</td>\n",
       "      <td>Not Specified</td>\n",
       "    </tr>\n",
       "    <tr>\n",
       "      <th>3</th>\n",
       "      <td>4</td>\n",
       "      <td>2022-12-16 11:58:46</td>\n",
       "      <td>India</td>\n",
       "      <td>834003</td>\n",
       "      <td>Male</td>\n",
       "      <td>Circle (Not Family)</td>\n",
       "      <td>Cost-Dependent Yes</td>\n",
       "      <td>Hard but Possible</td>\n",
       "      <td>No</td>\n",
       "      <td>No</td>\n",
       "      <td>...</td>\n",
       "      <td>&gt;50k</td>\n",
       "      <td>&gt;151k</td>\n",
       "      <td>0</td>\n",
       "      <td>0</td>\n",
       "      <td>No Preference</td>\n",
       "      <td>No Response</td>\n",
       "      <td>0</td>\n",
       "      <td>0</td>\n",
       "      <td>Not Specified</td>\n",
       "      <td>Not Specified</td>\n",
       "    </tr>\n",
       "    <tr>\n",
       "      <th>4</th>\n",
       "      <td>5</td>\n",
       "      <td>2022-12-16 11:59:26</td>\n",
       "      <td>India</td>\n",
       "      <td>301019</td>\n",
       "      <td>Female</td>\n",
       "      <td>Career Influencers</td>\n",
       "      <td>Cost-Dependent Yes</td>\n",
       "      <td>Yes, 3+ Years</td>\n",
       "      <td>No</td>\n",
       "      <td>No</td>\n",
       "      <td>...</td>\n",
       "      <td>31k to 40k</td>\n",
       "      <td>71k to 90k</td>\n",
       "      <td>0</td>\n",
       "      <td>0</td>\n",
       "      <td>No Preference</td>\n",
       "      <td>No Response</td>\n",
       "      <td>0</td>\n",
       "      <td>0</td>\n",
       "      <td>Not Specified</td>\n",
       "      <td>Not Specified</td>\n",
       "    </tr>\n",
       "  </tbody>\n",
       "</table>\n",
       "<p>5 rows × 30 columns</p>\n",
       "</div>"
      ],
      "text/plain": [
       "   Index           Timestamp Current_Country Current_Zip_Code  Gender  \\\n",
       "0      1 2022-12-16 11:46:06           India           273005    Male   \n",
       "1      2 2022-12-16 11:46:34           India           851129    Male   \n",
       "2      3 2022-12-16 11:55:22           India           123106  Female   \n",
       "3      4 2022-12-16 11:58:46           India           834003    Male   \n",
       "4      5 2022-12-16 11:59:26           India           301019  Female   \n",
       "\n",
       "      Career_Influence Higher_Education_Outside_India  \\\n",
       "0         Changemakers                Self-Funded Yes   \n",
       "1         Changemakers             Cost-Dependent Yes   \n",
       "2             LinkedIn                Self-Funded Yes   \n",
       "3  Circle (Not Family)             Cost-Dependent Yes   \n",
       "4   Career Influencers             Cost-Dependent Yes   \n",
       "\n",
       "  Employer_3_Years_Likelihood Undefined_Mission_Company  \\\n",
       "0           Hard but Possible                        No   \n",
       "1           Hard but Possible                        No   \n",
       "2               Yes, 3+ Years                       Yes   \n",
       "3           Hard but Possible                        No   \n",
       "4               Yes, 3+ Years                        No   \n",
       "\n",
       "  Misaligned_Mission_Company  ...  Career_Initial_Salary  \\\n",
       "0                         No  ...             31k to 40k   \n",
       "1                         No  ...             21k to 25k   \n",
       "2                        Yes  ...             21k to 25k   \n",
       "3                         No  ...                   >50k   \n",
       "4                         No  ...             31k to 40k   \n",
       "\n",
       "  Career_5_Years_Salary No_Remote_Working_Policy Starting_Salary_Expectation  \\\n",
       "0           91k to 110k                        0                           0   \n",
       "1            50k to 70k                        0                           0   \n",
       "2           91k to 110k                        0                           0   \n",
       "3                 >151k                        0                           0   \n",
       "4            71k to 90k                        0                           0   \n",
       "\n",
       "  Preferred_Company_Type Abusive_Manager Hours_Per_Day  \\\n",
       "0          No Preference     No Response             0   \n",
       "1          No Preference     No Response             0   \n",
       "2          No Preference     No Response             0   \n",
       "3          No Preference     No Response             0   \n",
       "4          No Preference     No Response             0   \n",
       "\n",
       "  Full_Week_Break_Frequency Happiness_At_Work Frustration_At_Work  \n",
       "0                         0     Not Specified       Not Specified  \n",
       "1                         0     Not Specified       Not Specified  \n",
       "2                         0     Not Specified       Not Specified  \n",
       "3                         0     Not Specified       Not Specified  \n",
       "4                         0     Not Specified       Not Specified  \n",
       "\n",
       "[5 rows x 30 columns]"
      ]
     },
     "execution_count": 83,
     "metadata": {},
     "output_type": "execute_result"
    }
   ],
   "source": [
    "df.head()"
   ]
  },
  {
   "cell_type": "code",
   "execution_count": 84,
   "id": "2c520064-c044-486b-9d06-4a8d4669053a",
   "metadata": {},
   "outputs": [],
   "source": [
    "# Save the cleaned DataFrame with the index to an Excel file\n",
    "output_file = r'C:\\Users\\Tharu\\OneDrive\\Documents\\Pandas_cleaned_File.xlsx'\n",
    "df.to_excel(output_file, index=False)  # Don't save the default DataFrame index"
   ]
  },
  {
   "cell_type": "code",
   "execution_count": null,
   "id": "e20fbe98-a2d6-4881-b8c8-4219a89a1a03",
   "metadata": {},
   "outputs": [],
   "source": []
  }
 ],
 "metadata": {
  "kernelspec": {
   "display_name": "Python 3 (ipykernel)",
   "language": "python",
   "name": "python3"
  },
  "language_info": {
   "codemirror_mode": {
    "name": "ipython",
    "version": 3
   },
   "file_extension": ".py",
   "mimetype": "text/x-python",
   "name": "python",
   "nbconvert_exporter": "python",
   "pygments_lexer": "ipython3",
   "version": "3.12.4"
  }
 },
 "nbformat": 4,
 "nbformat_minor": 5
}
